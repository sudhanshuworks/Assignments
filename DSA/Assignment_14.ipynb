{
 "cells": [
  {
   "cell_type": "markdown",
   "id": "cf15af0b",
   "metadata": {},
   "source": [
    "## **Question 1**\n",
    "\n",
    "Given a linked list of **N** nodes such that it may contain a loop.\n",
    "\n",
    "A loop here means that the last node of the link list is connected to the node at position X(1-based index). If the link list does not have any loop, X=0.\n",
    "\n",
    "Remove the loop from the linked list, if it is present, i.e. unlink the last node which is forming the loop.\n",
    "\n"
   ]
  },
  {
   "cell_type": "code",
   "execution_count": 16,
   "id": "b821e3d6",
   "metadata": {},
   "outputs": [],
   "source": [
    "class ListNode:\n",
    "    def __init__(self, val):\n",
    "        self.val = val\n",
    "        self.next = None\n",
    "\n",
    "def createLinkedList(values):\n",
    "    head = None\n",
    "    tail = None\n",
    "\n",
    "    for val in values:\n",
    "        node = ListNode(val)\n",
    "        if not head:\n",
    "            head = node\n",
    "            tail = node\n",
    "        else:\n",
    "            tail.next = node\n",
    "            tail = node\n",
    "\n",
    "    return head\n"
   ]
  },
  {
   "cell_type": "code",
   "execution_count": 17,
   "id": "5765a182",
   "metadata": {},
   "outputs": [],
   "source": [
    "class ListNode:\n",
    "    def __init__(self, val):\n",
    "        self.val = val\n",
    "        self.next = None\n",
    "\n",
    "def detectAndRemoveLoop(head):\n",
    "    slow = fast = head\n",
    "    X = 0\n",
    "\n",
    "    while fast and fast.next:\n",
    "        slow = slow.next\n",
    "        fast = fast.next.next\n",
    "        if slow == fast:\n",
    "            \n",
    "            X = getPositionOfLoopStart(slow, head)\n",
    "            break\n",
    "\n",
    "    if X == 0:\n",
    "        \n",
    "        return head\n",
    "\n",
    "    \n",
    "    slow = head\n",
    "    for _ in range(X - 1):\n",
    "        slow = slow.next\n",
    "\n",
    "   \n",
    "    slow.next = None\n",
    "\n",
    "    return head\n",
    "\n",
    "def getPositionOfLoopStart(slow, head):\n",
    "    \n",
    "    ptr1 = slow\n",
    "    ptr2 = slow\n",
    "\n",
    "   \n",
    "    count = 1\n",
    "    while ptr1.next != ptr2:\n",
    "        ptr1 = ptr1.next\n",
    "        count += 1\n",
    "\n",
    "    \n",
    "    ptr2 = head\n",
    "    for _ in range(count):\n",
    "        ptr2 = ptr2.next\n",
    "\n",
    "    \n",
    "    while ptr1 != ptr2:\n",
    "        ptr1 = ptr1.next\n",
    "        ptr2 = ptr2.next\n",
    "\n",
    "    return count\n"
   ]
  },
  {
   "cell_type": "code",
   "execution_count": 18,
   "id": "e7f2bc38",
   "metadata": {},
   "outputs": [
    {
     "name": "stdout",
     "output_type": "stream",
     "text": [
      "1 3 4 "
     ]
    }
   ],
   "source": [
    "N = 3\n",
    "values = [1, 3, 4]\n",
    "X = 2\n",
    "\n",
    "head = createLinkedList(values)\n",
    "head = detectAndRemoveLoop(head)\n",
    "current = head\n",
    "while current:\n",
    "    print(current.val, end=\" \")\n",
    "    current = current.next\n",
    "\n"
   ]
  },
  {
   "cell_type": "markdown",
   "id": "f6f5d39f",
   "metadata": {},
   "source": [
    "## **Question 2**\n",
    "\n",
    "A number **N** is represented in Linked List such that each digit corresponds to a node in linked list. You need to add 1 to it.\n"
   ]
  },
  {
   "cell_type": "code",
   "execution_count": 19,
   "id": "126e033a",
   "metadata": {},
   "outputs": [],
   "source": [
    "class ListNode:\n",
    "    def __init__(self, val=0, next=None):\n",
    "        self.val = val\n",
    "        self.next = next\n",
    "\n",
    "def addOne(head):\n",
    "    \n",
    "    prev = None\n",
    "    current = head\n",
    "    while current:\n",
    "        next_node = current.next\n",
    "        current.next = prev\n",
    "        prev = current\n",
    "        current = next_node\n",
    "    head = prev\n",
    "\n",
    "    \n",
    "    carry = 1\n",
    "    current = head\n",
    "    while current:\n",
    "        total = current.val + carry\n",
    "        current.val = total % 10\n",
    "        carry = total // 10\n",
    "        if carry == 0:\n",
    "            break\n",
    "        current = current.next\n",
    "\n",
    "    \n",
    "    prev = None\n",
    "    current = head\n",
    "    while current:\n",
    "        next_node = current.next\n",
    "        current.next = prev\n",
    "        prev = current\n",
    "        current = next_node\n",
    "    head = prev\n",
    "\n",
    "    \n",
    "    if carry > 0:\n",
    "        new_head = ListNode(carry)\n",
    "        new_head.next = head\n",
    "        head = new_head\n",
    "\n",
    "    return head\n"
   ]
  },
  {
   "cell_type": "code",
   "execution_count": 20,
   "id": "88cf2131",
   "metadata": {},
   "outputs": [
    {
     "name": "stdout",
     "output_type": "stream",
     "text": [
      "1 2 4 "
     ]
    }
   ],
   "source": [
    "head = ListNode(1)\n",
    "head.next = ListNode(2)\n",
    "head.next.next = ListNode(3)\n",
    "\n",
    "new_head = addOne(head)\n",
    "\n",
    "current = new_head\n",
    "while current:\n",
    "    print(current.val, end=\" \")\n",
    "    current = current.next\n"
   ]
  },
  {
   "cell_type": "markdown",
   "id": "d6ca4f4e",
   "metadata": {},
   "source": [
    "## **Question 3**\n",
    "\n",
    "Given a Linked List of size N, where every node represents a sub-linked-list and contains two pointers:(i) a **next** pointer to the next node,(ii) a **bottom** pointer to a linked list where this node is head.Each of the sub-linked-list is in sorted order.Flatten the Link List such that all the nodes appear in a single level while maintaining the sorted order. **Note:** The flattened list will be printed using the bottom pointer instead of next pointer.\n"
   ]
  },
  {
   "cell_type": "code",
   "execution_count": 21,
   "id": "b6ad4b4e",
   "metadata": {},
   "outputs": [],
   "source": [
    "class ListNode:\n",
    "    def __init__(self, val=0, next=None, bottom=None):\n",
    "        self.val = val\n",
    "        self.next = next\n",
    "        self.bottom = bottom\n",
    "\n",
    "def mergeLists(list1, list2):\n",
    "    \n",
    "    dummy = ListNode()\n",
    "    tail = dummy\n",
    "\n",
    "    while list1 and list2:\n",
    "        if list1.val <= list2.val:\n",
    "            tail.bottom = list1\n",
    "            list1 = list1.bottom\n",
    "        else:\n",
    "            tail.bottom = list2\n",
    "            list2 = list2.bottom\n",
    "        tail = tail.bottom\n",
    "\n",
    "    if list1:\n",
    "        tail.bottom = list1\n",
    "    else:\n",
    "        tail.bottom = list2\n",
    "\n",
    "    return dummy.bottom\n",
    "\n",
    "def flattenLinkedList(head):\n",
    "    if not head or not head.next:\n",
    "       \n",
    "        return head\n",
    "\n",
    "    head.next = flattenLinkedList(head.next)\n",
    "\n",
    "    head = mergeLists(head, head.next)\n",
    "\n",
    "    return head\n",
    "\n",
    "def printFlattenedList(head):\n",
    "    \n",
    "    current = head\n",
    "    while current:\n",
    "        print(current.val, end=\" \")\n",
    "        current = current.bottom\n",
    "    print()\n"
   ]
  },
  {
   "cell_type": "code",
   "execution_count": 22,
   "id": "fa45e60c",
   "metadata": {},
   "outputs": [
    {
     "name": "stdout",
     "output_type": "stream",
     "text": [
      "5 7 8 10 19 20 22 28 30 35 40 45 50 \n"
     ]
    }
   ],
   "source": [
    "\n",
    "head = ListNode(5)\n",
    "head.next = ListNode(10)\n",
    "head.next.next = ListNode(19)\n",
    "head.next.next.next = ListNode(28)\n",
    "\n",
    "head.bottom = ListNode(7)\n",
    "head.bottom.bottom = ListNode(8)\n",
    "head.bottom.bottom.bottom = ListNode(30)\n",
    "\n",
    "head.next.bottom = ListNode(20)\n",
    "\n",
    "head.next.next.bottom = ListNode(22)\n",
    "head.next.next.bottom.bottom = ListNode(50)\n",
    "\n",
    "head.next.next.next.bottom = ListNode(35)\n",
    "head.next.next.next.bottom.bottom = ListNode(40)\n",
    "head.next.next.next.bottom.bottom.bottom = ListNode(45)\n",
    "\n",
    "flattened_list = flattenLinkedList(head)\n",
    "\n",
    "\n",
    "printFlattenedList(flattened_list)\n"
   ]
  },
  {
   "cell_type": "markdown",
   "id": "7ab20e13",
   "metadata": {},
   "source": [
    "## **Question 5**\n",
    "\n",
    "Given the `head` of a singly linked list, group all the nodes with odd indices together followed by the nodes with even indices, and return *the reordered list*.\n",
    "\n",
    "The **first** node is considered **odd**, and the **second** node is **even**, and so on.\n",
    "\n",
    "Note that the relative order inside both the even and odd groups should remain as it was in the input.\n",
    "\n",
    "You must solve the problem in `O(1)` extra space complexity and `O(n)` time complexity.\n"
   ]
  },
  {
   "cell_type": "code",
   "execution_count": 23,
   "id": "48bafb59",
   "metadata": {},
   "outputs": [],
   "source": [
    "class ListNode:\n",
    "    def __init__(self, val=0, next=None):\n",
    "        self.val = val\n",
    "        self.next = next\n",
    "\n",
    "def oddEvenList(head):\n",
    "    if not head or not head.next:\n",
    "        \n",
    "        return head\n",
    "\n",
    "    odd_head = head\n",
    "    even_head = head.next\n",
    "    odd = odd_head\n",
    "    even = even_head\n",
    "\n",
    "    while even and even.next:\n",
    "        odd.next = even.next\n",
    "        odd = odd.next\n",
    "        even.next = odd.next\n",
    "        even = even.next\n",
    "\n",
    "    odd.next = even_head\n",
    "\n",
    "    return odd_head\n"
   ]
  },
  {
   "cell_type": "code",
   "execution_count": 24,
   "id": "3265b221",
   "metadata": {},
   "outputs": [
    {
     "name": "stdout",
     "output_type": "stream",
     "text": [
      "1 3 5 2 4 "
     ]
    }
   ],
   "source": [
    "\n",
    "head = ListNode(1)\n",
    "head.next = ListNode(2)\n",
    "head.next.next = ListNode(3)\n",
    "head.next.next.next = ListNode(4)\n",
    "head.next.next.next.next = ListNode(5)\n",
    "\n",
    "\n",
    "reordered_list = oddEvenList(head)\n",
    "\n",
    "\n",
    "current = reordered_list\n",
    "while current:\n",
    "    print(current.val, end=\" \")\n",
    "    current = current.next\n"
   ]
  },
  {
   "cell_type": "markdown",
   "id": "4304c49b",
   "metadata": {},
   "source": [
    "## **Question 6**\n",
    "\n",
    "Given a singly linked list of size **N**. The task is to **left-shift** the linked list by **k** nodes, where **k** is a given positive integer smaller than or equal to length of the linked list.\n"
   ]
  },
  {
   "cell_type": "code",
   "execution_count": 25,
   "id": "4dfc60bd",
   "metadata": {},
   "outputs": [],
   "source": [
    "class ListNode:\n",
    "    def __init__(self, val=0, next=None):\n",
    "        self.val = val\n",
    "        self.next = next\n",
    "\n",
    "def leftShiftLinkedList(head, k):\n",
    "    if not head or k == 0:\n",
    "      \n",
    "        return head\n",
    "\n",
    "    current = head\n",
    "    for _ in range(k - 1):\n",
    "        current = current.next\n",
    "        if not current:\n",
    "            \n",
    "            current = head\n",
    "\n",
    "    \n",
    "    last_node = current\n",
    "    while last_node.next:\n",
    "        last_node = last_node.next\n",
    "    last_node.next = head\n",
    "\n",
    "    new_head = current.next\n",
    "    current.next = None\n",
    "\n",
    "    return new_head\n"
   ]
  },
  {
   "cell_type": "code",
   "execution_count": 26,
   "id": "21295648",
   "metadata": {},
   "outputs": [
    {
     "name": "stdout",
     "output_type": "stream",
     "text": [
      "3 4 5 1 2 "
     ]
    }
   ],
   "source": [
    "head = ListNode(1)\n",
    "head.next = ListNode(2)\n",
    "head.next.next = ListNode(3)\n",
    "head.next.next.next = ListNode(4)\n",
    "head.next.next.next.next = ListNode(5)\n",
    "\n",
    "k = 2\n",
    "\n",
    "shifted_list = leftShiftLinkedList(head, k)\n",
    "\n",
    "current = shifted_list\n",
    "while current:\n",
    "    print(current.val, end=\" \")\n",
    "    current = current.next\n"
   ]
  },
  {
   "cell_type": "markdown",
   "id": "f48b4279",
   "metadata": {},
   "source": [
    "## **Question 8**\n",
    "\n",
    "Given the `head` of a linked list, we repeatedly delete consecutive sequences of nodes that sum to `0` until there are no such sequences.\n",
    "\n",
    "After doing so, return the head of the final linked list.  You may return any such answer.\n",
    "\n",
    "(Note that in the examples below, all sequences are serializations of `ListNode` objects.)\n"
   ]
  },
  {
   "cell_type": "code",
   "execution_count": 27,
   "id": "6cd4c6db",
   "metadata": {},
   "outputs": [],
   "source": [
    "class ListNode:\n",
    "    def __init__(self, val=0, next=None):\n",
    "        self.val = val\n",
    "        self.next = next\n",
    "\n",
    "def removeZeroSumSublists(head: ListNode) -> ListNode:\n",
    "    dummy = ListNode(0) \n",
    "    dummy.next = head\n",
    "    prefix_sum = 0\n",
    "    sum_map = {0: dummy} \n",
    "    \n",
    "    \n",
    "    while head:\n",
    "        prefix_sum += head.val\n",
    "        \n",
    " \n",
    "        if prefix_sum in sum_map:\n",
    "            prev = sum_map[prefix_sum]\n",
    "            prev.next = head.next\n",
    "        \n",
    "        else:\n",
    "            sum_map[prefix_sum] = head\n",
    "        \n",
    "        head = head.next\n",
    "    \n",
    "    return dummy.next "
   ]
  },
  {
   "cell_type": "code",
   "execution_count": 28,
   "id": "007eb275",
   "metadata": {},
   "outputs": [
    {
     "name": "stdout",
     "output_type": "stream",
     "text": [
      "3\n",
      "1\n"
     ]
    }
   ],
   "source": [
    "head = ListNode(1)\n",
    "head.next = ListNode(2)\n",
    "head.next.next = ListNode(-3)\n",
    "head.next.next.next = ListNode(3)\n",
    "head.next.next.next.next = ListNode(1)\n",
    "result = removeZeroSumSublists(head)\n",
    "\n",
    "while result:\n",
    "    print(result.val)\n",
    "    result = result.next"
   ]
  },
  {
   "cell_type": "code",
   "execution_count": null,
   "id": "80477a1c",
   "metadata": {},
   "outputs": [],
   "source": []
  }
 ],
 "metadata": {
  "kernelspec": {
   "display_name": "Python 3 (ipykernel)",
   "language": "python",
   "name": "python3"
  },
  "language_info": {
   "codemirror_mode": {
    "name": "ipython",
    "version": 3
   },
   "file_extension": ".py",
   "mimetype": "text/x-python",
   "name": "python",
   "nbconvert_exporter": "python",
   "pygments_lexer": "ipython3",
   "version": "3.9.7"
  }
 },
 "nbformat": 4,
 "nbformat_minor": 5
}
