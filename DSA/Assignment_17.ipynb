{
 "cells": [
  {
   "cell_type": "markdown",
   "id": "ac3e9082",
   "metadata": {},
   "source": [
    "## **Question 1**\n",
    "\n",
    "Given a string `s`, *find the first non-repeating character in it and return its index*. If it does not exist, return `-1`.\n",
    "\n",
    "**Example 1:**\n",
    "Input: s = \"leetcode\"\n",
    "Output: 0"
   ]
  },
  {
   "cell_type": "code",
   "execution_count": 24,
   "id": "cbbc1c1f",
   "metadata": {},
   "outputs": [],
   "source": [
    "from collections import deque\n",
    "\n",
    "def first_uniq_char(s):\n",
    "    char_counts = {}\n",
    "    queue = deque()\n",
    "\n",
    "    for i, char in enumerate(s):\n",
    "        if char in char_counts:\n",
    "            char_counts[char] += 1\n",
    "        else:\n",
    "            char_counts[char] = 1\n",
    "            queue.append((char, i))\n",
    "\n",
    "    while queue:\n",
    "        char, index = queue.popleft()\n",
    "        if char_counts[char] == 1:\n",
    "            return index\n",
    "\n",
    "    return -1\n"
   ]
  },
  {
   "cell_type": "code",
   "execution_count": 25,
   "id": "c7bafdff",
   "metadata": {},
   "outputs": [
    {
     "name": "stdout",
     "output_type": "stream",
     "text": [
      "0\n"
     ]
    }
   ],
   "source": [
    "#test case 1\n",
    "s = \"leetcode\"\n",
    "print(first_uniq_char(s))"
   ]
  },
  {
   "cell_type": "code",
   "execution_count": 26,
   "id": "8ad4f1c8",
   "metadata": {},
   "outputs": [
    {
     "name": "stdout",
     "output_type": "stream",
     "text": [
      "2\n"
     ]
    }
   ],
   "source": [
    "#test case 2\n",
    "s = \"loveleetcode\"\n",
    "print(first_uniq_char(s)) "
   ]
  },
  {
   "cell_type": "code",
   "execution_count": 27,
   "id": "f629a0b8",
   "metadata": {},
   "outputs": [
    {
     "name": "stdout",
     "output_type": "stream",
     "text": [
      "-1\n"
     ]
    }
   ],
   "source": [
    "#test case 3\n",
    "s = \"aabb\"\n",
    "print(first_uniq_char(s))"
   ]
  },
  {
   "cell_type": "markdown",
   "id": "b89806b9",
   "metadata": {},
   "source": [
    "## **Question 2**\n",
    "\n",
    "Given a **circular integer array** `nums` of length `n`, return *the maximum possible sum of a non-empty **subarray** of* `nums`.\n",
    "\n",
    "A **circular array** means the end of the array connects to the beginning of the array. Formally, the next element of `nums[i]` is `nums[(i + 1) % n]` and the previous element of `nums[i]` is `nums[(i - 1 + n) % n]`.\n",
    "\n",
    "A **subarray** may only include each element of the fixed buffer `nums` at most once. Formally, for a subarray `nums[i], nums[i + 1], ..., nums[j]`, there does not exist `i <= k1`, `k2 <= j` with `k1 % n == k2 % n`.\n"
   ]
  },
  {
   "cell_type": "code",
   "execution_count": 28,
   "id": "d6a71162",
   "metadata": {},
   "outputs": [],
   "source": [
    "from collections import deque\n",
    "\n",
    "def max_subarray_sum_circular(nums):\n",
    "    \n",
    "    max_sum_non_circular = kadane(nums)\n",
    "\n",
    "    circular_max_sum = circular_kadane(nums)\n",
    "\n",
    "    return max(max_sum_non_circular, circular_max_sum)\n",
    "\n",
    "def kadane(nums):\n",
    "    max_sum = float('-inf')\n",
    "    curr_sum = 0\n",
    "\n",
    "    for num in nums:\n",
    "        curr_sum = max(num, curr_sum + num)\n",
    "        max_sum = max(max_sum, curr_sum)\n",
    "\n",
    "    return max_sum\n",
    "\n",
    "def circular_kadane(nums):\n",
    "    n = len(nums)\n",
    "\n",
    "    queue = deque()\n",
    "    curr_sum = 0\n",
    "    max_sum = float('-inf')\n",
    "\n",
    "    for i in range(n):\n",
    "        queue.append(nums[i])\n",
    "        curr_sum += nums[i]\n",
    "        if curr_sum > max_sum:\n",
    "            max_sum = curr_sum\n",
    "        if curr_sum < 0:\n",
    "            curr_sum = 0\n",
    "            queue.clear()\n",
    "\n",
    "    if max_sum < 0:\n",
    "        return max(nums)\n",
    "\n",
    "    queue_sum = sum(queue)\n",
    "    queue.clear()\n",
    "    curr_sum = 0\n",
    "\n",
    "    for i in range(n):\n",
    "        queue.append(nums[i])\n",
    "        curr_sum += nums[i]\n",
    "        if curr_sum > max_sum:\n",
    "            max_sum = curr_sum\n",
    "        if curr_sum < 0:\n",
    "            curr_sum = 0\n",
    "            queue.clear()\n",
    "\n",
    "    return max(max_sum, queue_sum)\n"
   ]
  },
  {
   "cell_type": "code",
   "execution_count": 29,
   "id": "48348520",
   "metadata": {},
   "outputs": [
    {
     "name": "stdout",
     "output_type": "stream",
     "text": [
      "3\n"
     ]
    }
   ],
   "source": [
    "nums = [1, -2, 3, -2]\n",
    "print(max_subarray_sum_circular(nums))"
   ]
  },
  {
   "cell_type": "code",
   "execution_count": 30,
   "id": "1e4ba601",
   "metadata": {},
   "outputs": [
    {
     "name": "stdout",
     "output_type": "stream",
     "text": [
      "7\n"
     ]
    }
   ],
   "source": [
    "nums = [5,-3,5]\n",
    "print(max_subarray_sum_circular(nums))"
   ]
  },
  {
   "cell_type": "code",
   "execution_count": 31,
   "id": "4833687b",
   "metadata": {},
   "outputs": [
    {
     "name": "stdout",
     "output_type": "stream",
     "text": [
      "-2\n"
     ]
    }
   ],
   "source": [
    "nums = [-3,-2,-3]\n",
    "print(max_subarray_sum_circular(nums))"
   ]
  },
  {
   "cell_type": "markdown",
   "id": "1306ce15",
   "metadata": {},
   "source": [
    "## **Question 3**\n",
    "\n",
    "The school cafeteria offers circular and square sandwiches at lunch break, referred to by numbers `0` and `1` respectively. All students stand in a queue. Each student either prefers square or circular sandwiches.\n",
    "\n",
    "The number of sandwiches in the cafeteria is equal to the number of students. The sandwiches are placed in a **stack**. At each step:\n",
    "\n",
    "- If the student at the front of the queue **prefers** the sandwich on the top of the stack, they will **take it** and leave the queue.\n",
    "- Otherwise, they will **leave it** and go to the queue's end.\n",
    "\n",
    "This continues until none of the queue students want to take the top sandwich and are thus unable to eat.\n",
    "\n",
    "You are given two integer arrays `students` and `sandwiches` where `sandwiches[i]` is the type of the `ith` sandwich in the stack (`i = 0` is the top of the stack) and `students[j]` is the preference of the `jth` student in the initial queue (`j = 0` is the front of the queue). Return *the number of students that are unable to eat.*\n"
   ]
  },
  {
   "cell_type": "code",
   "execution_count": 32,
   "id": "7f9467b6",
   "metadata": {},
   "outputs": [],
   "source": [
    "from collections import deque\n",
    "\n",
    "def count_students_unable_to_eat(students, sandwiches):\n",
    "    student_queue = deque(students)\n",
    "    sandwich_stack = list(sandwiches)\n",
    "\n",
    "    unchanged_iterations = 0\n",
    "    while unchanged_iterations < len(student_queue):\n",
    "        student = student_queue.popleft()\n",
    "        if student == sandwich_stack[0]:\n",
    "            sandwich_stack.pop(0)\n",
    "            unchanged_iterations = 0\n",
    "        else:\n",
    "            student_queue.append(student)\n",
    "            unchanged_iterations += 1\n",
    "\n",
    "    return unchanged_iterations\n"
   ]
  },
  {
   "cell_type": "code",
   "execution_count": 33,
   "id": "06237953",
   "metadata": {},
   "outputs": [
    {
     "data": {
      "text/plain": [
       "0"
      ]
     },
     "execution_count": 33,
     "metadata": {},
     "output_type": "execute_result"
    }
   ],
   "source": [
    "students = [1,1,0,0]\n",
    "sandwiches = [0,1,0,1]\n",
    "count_students_unable_to_eat(students, sandwiches)"
   ]
  },
  {
   "cell_type": "markdown",
   "id": "7953d554",
   "metadata": {},
   "source": [
    "## **Question 4**\n",
    "\n",
    "You have a `RecentCounter` class which counts the number of recent requests within a certain time frame.\n",
    "\n",
    "Implement the `RecentCounter` class:\n",
    "\n",
    "- `RecentCounter()` Initializes the counter with zero recent requests.\n",
    "- `int ping(int t)` Adds a new request at time `t`, where `t` represents some time in milliseconds, and returns the number of requests that has happened in the past `3000` milliseconds (including the new request). Specifically, return the number of requests that have happened in the inclusive range `[t - 3000, t]`.\n",
    "\n",
    "It is **guaranteed** that every call to `ping` uses a strictly larger value of `t` than the previous call.\n"
   ]
  },
  {
   "cell_type": "code",
   "execution_count": 34,
   "id": "3471ce5e",
   "metadata": {},
   "outputs": [],
   "source": [
    "from collections import deque\n",
    "\n",
    "class RecentCounter:\n",
    "    def __init__(self):\n",
    "        self.requests = deque()\n",
    "\n",
    "    def ping(self, t: int) -> int:\n",
    "        while self.requests and self.requests[0] < t - 3000:\n",
    "            self.requests.popleft()\n",
    "        self.requests.append(t)\n",
    "        return len(self.requests)\n"
   ]
  },
  {
   "cell_type": "code",
   "execution_count": 35,
   "id": "c3571a9c",
   "metadata": {},
   "outputs": [
    {
     "name": "stdout",
     "output_type": "stream",
     "text": [
      "1\n",
      "2\n",
      "3\n",
      "3\n"
     ]
    }
   ],
   "source": [
    "counter = RecentCounter()\n",
    "print(counter.ping(1))  \n",
    "print(counter.ping(100))  \n",
    "print(counter.ping(3001))  \n",
    "print(counter.ping(3002))  "
   ]
  },
  {
   "cell_type": "markdown",
   "id": "5251c44f",
   "metadata": {},
   "source": [
    "## **Question 5**\n",
    "\n",
    "There are `n` friends that are playing a game. The friends are sitting in a circle and are numbered from `1` to `n` in **clockwise order**. More formally, moving clockwise from the `ith` friend brings you to the `(i+1)th` friend for `1 <= i < n`, and moving clockwise from the `nth` friend brings you to the `1st` friend.\n",
    "\n",
    "The rules of the game are as follows:\n",
    "\n",
    "1. **Start** at the `1st` friend.\n",
    "2. Count the next `k` friends in the clockwise direction **including** the friend you started at. The counting wraps around the circle and may count some friends more than once.\n",
    "3. The last friend you counted leaves the circle and loses the game.\n",
    "4. If there is still more than one friend in the circle, go back to step `2` **starting** from the friend **immediately clockwise** of the friend who just lost and repeat.\n",
    "5. Else, the last friend in the circle wins the game.\n",
    "\n",
    "Given the number of friends, `n`, and an integer `k`, return *the winner of the game*.\n",
    "\n"
   ]
  },
  {
   "cell_type": "code",
   "execution_count": 36,
   "id": "9a0cb910",
   "metadata": {},
   "outputs": [],
   "source": [
    "def find_the_winner(n, k):\n",
    "    friends = list(range(1, n + 1))\n",
    "    curr_index = 0\n",
    "\n",
    "    while len(friends) > 1:\n",
    "        curr_index = (curr_index + k - 1) % len(friends)\n",
    "        friends.pop(curr_index)\n",
    "\n",
    "    return friends[0]\n"
   ]
  },
  {
   "cell_type": "code",
   "execution_count": 37,
   "id": "ff9a8522",
   "metadata": {},
   "outputs": [
    {
     "name": "stdout",
     "output_type": "stream",
     "text": [
      "3\n"
     ]
    }
   ],
   "source": [
    "n = 5\n",
    "k = 2\n",
    "print(find_the_winner(n, k)) \n"
   ]
  },
  {
   "cell_type": "code",
   "execution_count": 38,
   "id": "c652c21c",
   "metadata": {},
   "outputs": [
    {
     "name": "stdout",
     "output_type": "stream",
     "text": [
      "1\n"
     ]
    }
   ],
   "source": [
    "n = 6\n",
    "k = 5\n",
    "print(find_the_winner(n, k))"
   ]
  },
  {
   "cell_type": "markdown",
   "id": "7947a6ad",
   "metadata": {},
   "source": [
    "## **Question 6**\n",
    "\n",
    "You are given an integer array `deck`. There is a deck of cards where every card has a unique integer. The integer on the `ith` card is `deck[i]`.\n",
    "\n",
    "You can order the deck in any order you want. Initially, all the cards start face down (unrevealed) in one deck.\n",
    "\n",
    "You will do the following steps repeatedly until all cards are revealed:\n",
    "\n",
    "1. Take the top card of the deck, reveal it, and take it out of the deck.\n",
    "2. If there are still cards in the deck then put the next top card of the deck at the bottom of the deck.\n",
    "3. If there are still unrevealed cards, go back to step 1. Otherwise, stop.\n",
    "\n",
    "Return *an ordering of the deck that would reveal the cards in increasing order*.\n",
    "\n",
    "**Note** that the first entry in the answer is considered to be the top of the deck.\n"
   ]
  },
  {
   "cell_type": "code",
   "execution_count": 39,
   "id": "35eb1f5e",
   "metadata": {},
   "outputs": [],
   "source": [
    "import collections\n",
    "\n",
    "def deck_revealed_order(deck):\n",
    "    n = len(deck)\n",
    "    deck.sort()  \n",
    "\n",
    "    queue = collections.deque(range(n))  \n",
    "    result = [None] * n\n",
    "\n",
    "    for card in deck:\n",
    "        result[queue.popleft()] = card\n",
    "        if queue:\n",
    "            queue.append(queue.popleft())\n",
    "\n",
    "    return result\n"
   ]
  },
  {
   "cell_type": "code",
   "execution_count": 40,
   "id": "73bda9b3",
   "metadata": {},
   "outputs": [
    {
     "name": "stdout",
     "output_type": "stream",
     "text": [
      "[2, 13, 3, 11, 5, 17, 7]\n"
     ]
    }
   ],
   "source": [
    "deck = [17,13,11,2,3,5,7]\n",
    "print(deck_revealed_order(deck))  \n"
   ]
  },
  {
   "cell_type": "code",
   "execution_count": 41,
   "id": "cb9f1862",
   "metadata": {},
   "outputs": [
    {
     "name": "stdout",
     "output_type": "stream",
     "text": [
      "[1, 1000]\n"
     ]
    }
   ],
   "source": [
    "deck = [1,1000]\n",
    "print(deck_revealed_order(deck)) "
   ]
  },
  {
   "cell_type": "markdown",
   "id": "17e47034",
   "metadata": {},
   "source": [
    "## **Question 7**\n",
    "\n",
    "Design a queue that supports `push` and `pop` operations in the front, middle, and back.\n",
    "\n",
    "Implement the `FrontMiddleBack` class:\n",
    "\n",
    "- `FrontMiddleBack()` Initializes the queue.\n",
    "- `void pushFront(int val)` Adds `val` to the **front** of the queue.\n",
    "- `void pushMiddle(int val)` Adds `val` to the **middle** of the queue.\n",
    "- `void pushBack(int val)` Adds `val` to the **back** of the queue.\n",
    "- `int popFront()` Removes the **front** element of the queue and returns it. If the queue is empty, return `1`.\n",
    "- `int popMiddle()` Removes the **middle** element of the queue and returns it. If the queue is empty, return `1`.\n",
    "- `int popBack()` Removes the **back** element of the queue and returns it. If the queue is empty, return `1`.\n",
    "\n",
    "**Notice** that when there are **two** middle position choices, the operation is performed on the **frontmost** middle position choice. For example:\n",
    "\n",
    "- Pushing `6` into the middle of `[1, 2, 3, 4, 5]` results in `[1, 2, 6, 3, 4, 5]`.\n",
    "- Popping the middle from `[1, 2, 3, 4, 5, 6]` returns `3` and results in `[1, 2, 4, 5, 6]`.\n"
   ]
  },
  {
   "cell_type": "code",
   "execution_count": 42,
   "id": "feef4398",
   "metadata": {},
   "outputs": [],
   "source": [
    "from collections import deque\n",
    "\n",
    "class FrontMiddleBack:\n",
    "    def __init__(self):\n",
    "        self.front_queue = deque()\n",
    "        self.back_queue = deque()\n",
    "\n",
    "    def pushFront(self, val):\n",
    "        self.front_queue.appendleft(val)\n",
    "        self._balance_queues()\n",
    "\n",
    "    def pushMiddle(self, val):\n",
    "        if len(self.front_queue) > len(self.back_queue):\n",
    "            self.back_queue.appendleft(self.front_queue.pop())\n",
    "        self.front_queue.append(val)\n",
    "\n",
    "    def pushBack(self, val):\n",
    "        self.back_queue.append(val)\n",
    "        self._balance_queues()\n",
    "\n",
    "    def popFront(self):\n",
    "        if self.front_queue:\n",
    "            return self.front_queue.popleft()\n",
    "        elif self.back_queue:\n",
    "            self._balance_queues()\n",
    "            if self.front_queue:\n",
    "                return self.front_queue.popleft()\n",
    "            else:\n",
    "                return self.back_queue.popleft()\n",
    "        else:\n",
    "            return -1\n",
    "\n",
    "    def popMiddle(self):\n",
    "        if self.front_queue:\n",
    "            return self.front_queue.pop()\n",
    "        else:\n",
    "            return -1\n",
    "\n",
    "    def popBack(self):\n",
    "        if self.back_queue:\n",
    "            return self.back_queue.pop()\n",
    "        elif self.front_queue:\n",
    "            self._balance_queues()\n",
    "            if self.back_queue:\n",
    "                return self.back_queue.pop()\n",
    "            else:\n",
    "                return self.front_queue.pop()\n",
    "        else:\n",
    "            return -1\n",
    "\n",
    "    def _balance_queues(self):\n",
    "        if len(self.front_queue) > len(self.back_queue) + 1:\n",
    "            self.back_queue.appendleft(self.front_queue.pop())\n",
    "        elif len(self.back_queue) > len(self.front_queue):\n",
    "            self.front_queue.append(self.back_queue.popleft())\n"
   ]
  },
  {
   "cell_type": "code",
   "execution_count": 43,
   "id": "fed92562",
   "metadata": {},
   "outputs": [
    {
     "name": "stdout",
     "output_type": "stream",
     "text": [
      "1\n",
      "3\n",
      "2\n"
     ]
    }
   ],
   "source": [
    "queue = FrontMiddleBack()\n",
    "queue.pushFront(1)\n",
    "queue.pushBack(2)\n",
    "queue.pushMiddle(3)\n",
    "print(queue.popFront())  \n",
    "print(queue.popMiddle())  \n",
    "print(queue.popBack()) "
   ]
  },
  {
   "cell_type": "markdown",
   "id": "8699e3fc",
   "metadata": {},
   "source": [
    "## **Question 8**\n",
    "\n",
    "For a stream of integers, implement a data structure that checks if the last `k` integers parsed in the stream are **equal** to `value`.\n",
    "\n",
    "Implement the **DataStream** class:\n",
    "\n",
    "- `DataStream(int value, int k)` Initializes the object with an empty integer stream and the two integers `value` and `k`.\n",
    "- `boolean consec(int num)` Adds `num` to the stream of integers. Returns `true` if the last `k` integers are equal to `value`, and `false` otherwise. If there are less than `k` integers, the condition does not hold true, so returns `false`.\n"
   ]
  },
  {
   "cell_type": "code",
   "execution_count": 44,
   "id": "1f5dfb5c",
   "metadata": {},
   "outputs": [],
   "source": [
    "from collections import deque\n",
    "\n",
    "class DataStream:\n",
    "    def __init__(self, value, k):\n",
    "        self.value = value\n",
    "        self.k = k\n",
    "        self.buffer = deque()\n",
    "\n",
    "    def consec(self, num):\n",
    "        self.buffer.append(num)\n",
    "\n",
    "        if len(self.buffer) > self.k:\n",
    "            self.buffer.popleft()\n",
    "\n",
    "        return len(self.buffer) == self.k and all(x == self.value for x in self.buffer)\n"
   ]
  },
  {
   "cell_type": "code",
   "execution_count": 45,
   "id": "8d9427ba",
   "metadata": {},
   "outputs": [
    {
     "name": "stdout",
     "output_type": "stream",
     "text": [
      "False\n",
      "False\n",
      "False\n",
      "False\n"
     ]
    }
   ],
   "source": [
    "stream = DataStream(4,3)\n",
    "print(stream.consec(4)) \n",
    "print(stream.consec(4)) \n",
    "print(stream.consec(3))  \n",
    "print(stream.consec(3))  "
   ]
  }
 ],
 "metadata": {
  "kernelspec": {
   "display_name": "Python 3 (ipykernel)",
   "language": "python",
   "name": "python3"
  },
  "language_info": {
   "codemirror_mode": {
    "name": "ipython",
    "version": 3
   },
   "file_extension": ".py",
   "mimetype": "text/x-python",
   "name": "python",
   "nbconvert_exporter": "python",
   "pygments_lexer": "ipython3",
   "version": "3.9.7"
  }
 },
 "nbformat": 4,
 "nbformat_minor": 5
}
