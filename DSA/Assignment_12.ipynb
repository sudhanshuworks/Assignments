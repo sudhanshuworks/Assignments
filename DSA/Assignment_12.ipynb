{
 "cells": [
  {
   "cell_type": "markdown",
   "id": "fe86d9b7",
   "metadata": {},
   "source": [
    "## **Question 1**\n",
    "\n",
    "Given a singly linked list, delete **middle** of the linked list. For example, if given linked list is 1->2->**3**->4->5 then linked list should be modified to 1->2->4->5.If there are **even** nodes, then there would be **two middle** nodes, we need to delete the second middle element. For example, if given linked list is 1->2->3->4->5->6 then it should be modified to 1->2->3->5->6.If the input linked list is NULL or has 1 node, then it should return NULL\n"
   ]
  },
  {
   "cell_type": "code",
   "execution_count": 12,
   "id": "ce108ea2",
   "metadata": {},
   "outputs": [],
   "source": [
    "class ListNode:\n",
    "    def __init__(self, val=0, next=None):\n",
    "        self.val = val\n",
    "        self.next = next\n",
    "\n",
    "def deleteMiddleNode(head):\n",
    "    if head is None or head.next is None:\n",
    "        return None\n",
    "\n",
    "    slow = head\n",
    "    fast = head.next\n",
    "    prev = None\n",
    "\n",
    "    while fast and fast.next:\n",
    "        prev = slow\n",
    "        slow = slow.next\n",
    "        fast = fast.next.next\n",
    "\n",
    "    prev.next = slow.next\n",
    "\n",
    "    return head"
   ]
  },
  {
   "cell_type": "code",
   "execution_count": 13,
   "id": "f8f84607",
   "metadata": {},
   "outputs": [
    {
     "name": "stdout",
     "output_type": "stream",
     "text": [
      "1 2 4 5 "
     ]
    }
   ],
   "source": [
    "# Create the linked list 1->2->3->4->5\n",
    "head = ListNode(1)\n",
    "head.next = ListNode(2)\n",
    "head.next.next = ListNode(3)\n",
    "head.next.next.next = ListNode(4)\n",
    "head.next.next.next.next = ListNode(5)\n",
    "\n",
    "result = deleteMiddleNode(head)\n",
    "\n",
    "# modified linked list\n",
    "while result:\n",
    "    print(result.val, end=\" \")\n",
    "    result = result.next"
   ]
  },
  {
   "cell_type": "markdown",
   "id": "2c7ec9b4",
   "metadata": {},
   "source": [
    "## **Question 2**\n",
    "\n",
    "Given a linked list of **N** nodes. The task is to check if the linked list has a loop. Linked list can contain self loop.\n",
    "\n"
   ]
  },
  {
   "cell_type": "code",
   "execution_count": 2,
   "id": "6770a18f",
   "metadata": {},
   "outputs": [],
   "source": [
    "class ListNode:\n",
    "    def __init__(self, val=0, next=None):\n",
    "        self.val = val\n",
    "        self.next = next\n",
    "\n",
    "def hasCycle(head):\n",
    "    if head is None or head.next is None:\n",
    "        return False\n",
    "\n",
    "    slow = head\n",
    "    fast = head\n",
    "\n",
    "    while fast is not None and fast.next is not None:\n",
    "        slow = slow.next\n",
    "        fast = fast.next.next\n",
    "\n",
    "        if slow == fast:\n",
    "            return True\n",
    "\n",
    "    return False\n"
   ]
  },
  {
   "cell_type": "code",
   "execution_count": 3,
   "id": "ac2ec4c5",
   "metadata": {},
   "outputs": [
    {
     "name": "stdout",
     "output_type": "stream",
     "text": [
      "True\n",
      "False\n"
     ]
    }
   ],
   "source": [
    "#for loop Linkedlist\n",
    "head1 = ListNode(1)\n",
    "head1.next = ListNode(2)\n",
    "head1.next.next = ListNode(3)\n",
    "head1.next.next.next = ListNode(4)\n",
    "head1.next.next.next.next = head1.next  \n",
    "\n",
    "print(hasCycle(head1)) \n",
    "\n",
    "#for without loop Linkedlist\n",
    "head2 = ListNode(1)\n",
    "head2.next = ListNode(2)\n",
    "head2.next.next = ListNode(3)\n",
    "head2.next.next.next = ListNode(4)\n",
    "\n",
    "print(hasCycle(head2))  \n"
   ]
  },
  {
   "cell_type": "markdown",
   "id": "f80362c4",
   "metadata": {},
   "source": [
    "## **Question 3**\n",
    "\n",
    "Given a linked list consisting of **L** nodes and given a number **N**. The task is to find the **N**th node from the end of the linked list.\n",
    "\n"
   ]
  },
  {
   "cell_type": "code",
   "execution_count": 4,
   "id": "c9744b38",
   "metadata": {},
   "outputs": [],
   "source": [
    "class ListNode:\n",
    "    def __init__(self, val=0, next=None):\n",
    "        self.val = val\n",
    "        self.next = next\n",
    "\n",
    "def findNthFromEnd(head, N):\n",
    "    if head is None:\n",
    "        return None\n",
    "\n",
    "    fast = head\n",
    "    slow = head\n",
    "\n",
    "   \n",
    "    for _ in range(N):\n",
    "        if fast is None:\n",
    "            return None\n",
    "        fast = fast.next\n",
    "\n",
    "   \n",
    "    while fast is not None:\n",
    "        fast = fast.next\n",
    "        slow = slow.next\n",
    "\n",
    "    return slow\n"
   ]
  },
  {
   "cell_type": "code",
   "execution_count": 5,
   "id": "a7193a32",
   "metadata": {},
   "outputs": [
    {
     "name": "stdout",
     "output_type": "stream",
     "text": [
      "-1\n"
     ]
    }
   ],
   "source": [
    "\n",
    "head = ListNode(10)\n",
    "head.next = ListNode(5)\n",
    "head.next.next = ListNode(100)\n",
    "head.next.next.next = ListNode(5)\n",
    "\n",
    "\n",
    "N = 5\n",
    "result =findNthFromEnd(head, N)\n",
    "if result is not None:\n",
    "    print(result.val) \n",
    "else:\n",
    "    print(-1)\n"
   ]
  },
  {
   "cell_type": "markdown",
   "id": "51000a35",
   "metadata": {},
   "source": [
    "## **Question 4**\n",
    "\n",
    "Given a singly linked list of characters, write a function that returns true if the given list is a palindrome, else false.\n",
    "\n",
    "**Examples:**\n",
    "\n",
    "**Input:** R->A->D->A->R->NULL\n",
    "\n",
    "**Output:** Yes\n",
    "\n",
    "**Input:** C->O->D->E->NULL\n",
    "\n",
    "**Output:** No"
   ]
  },
  {
   "cell_type": "code",
   "execution_count": 24,
   "id": "6dfcb6f3",
   "metadata": {},
   "outputs": [],
   "source": [
    "class ListNode:\n",
    "    def __init__(self, val=0, next=None):\n",
    "        self.val = val\n",
    "        self.next = next\n",
    "\n",
    "def isPalindrome(head):\n",
    "    if head is None or head.next is None:\n",
    "        return True\n",
    "\n",
    "   # middle of the linked list\n",
    "    slow = head\n",
    "    fast = head\n",
    "\n",
    "    while fast and fast.next:\n",
    "        slow = slow.next\n",
    "        fast = fast.next.next\n",
    "\n",
    "    # reverse the second half of the linked list\n",
    "    second_half = reverseLinkedList(slow)\n",
    "\n",
    "    # compare the first half with the reversed second half\n",
    "    first_half = head\n",
    "    while second_half:\n",
    "        if first_half.val != second_half.val:\n",
    "            return False\n",
    "        first_half = first_half.next\n",
    "        second_half = second_half.next\n",
    "\n",
    "    return True\n",
    "\n",
    "def reverseLinkedList(head):\n",
    "    prev = None\n",
    "    curr = head\n",
    "\n",
    "    while curr:\n",
    "        next_node = curr.next\n",
    "        curr.next = prev\n",
    "        prev = curr\n",
    "        curr = next_node\n",
    "\n",
    "    return prev"
   ]
  },
  {
   "cell_type": "code",
   "execution_count": 15,
   "id": "c7933e77",
   "metadata": {},
   "outputs": [
    {
     "name": "stdout",
     "output_type": "stream",
     "text": [
      "True\n"
     ]
    }
   ],
   "source": [
    "# Create the linked list R->A->D->A->R\n",
    "head = ListNode('R')\n",
    "head.next = ListNode('A')\n",
    "head.next.next = ListNode('D')\n",
    "head.next.next.next = ListNode('A')\n",
    "head.next.next.next.next = ListNode('R')\n",
    "\n",
    "result = isPalindrome(head)\n",
    "print(result)"
   ]
  },
  {
   "cell_type": "code",
   "execution_count": 16,
   "id": "64fa0c87",
   "metadata": {},
   "outputs": [
    {
     "name": "stdout",
     "output_type": "stream",
     "text": [
      "False\n"
     ]
    }
   ],
   "source": [
    "# Create the linked list C->O->D->E\n",
    "head = ListNode('C')\n",
    "head.next = ListNode('O')\n",
    "head.next.next = ListNode('D')\n",
    "head.next.next.next = ListNode('E')\n",
    "\n",
    "result = isPalindrome(head)\n",
    "print(result)  "
   ]
  },
  {
   "cell_type": "markdown",
   "id": "29135205",
   "metadata": {},
   "source": [
    "## **Question 5**\n",
    "\n",
    "Given a linked list of **N** nodes such that it may contain a loop.\n",
    "\n",
    "A loop here means that the last node of the link list is connected to the node at position X(1-based index). If the link list does not have any loop, X=0.\n",
    "\n",
    "Remove the loop from the linked list, if it is present, i.e. unlink the last node which is forming the loop.\n",
    "\n"
   ]
  },
  {
   "cell_type": "code",
   "execution_count": 17,
   "id": "d6809d19",
   "metadata": {},
   "outputs": [],
   "source": [
    "class ListNode:\n",
    "    def __init__(self, val=0, next=None):\n",
    "        self.val = val\n",
    "        self.next = next\n",
    "\n",
    "def removeLoop(head):\n",
    "    if head is None or head.next is None:\n",
    "        return head\n",
    "\n",
    "    slow = head\n",
    "    fast = head\n",
    "\n",
    "   \n",
    "    while fast is not None and fast.next is not None:\n",
    "        slow = slow.next\n",
    "        fast = fast.next.next\n",
    "\n",
    "        if slow == fast:\n",
    "            break\n",
    "\n",
    "    \n",
    "    if fast is None or fast.next is None:\n",
    "        return head\n",
    "\n",
    "   \n",
    "    loopStart = head\n",
    "    while loopStart.next != slow.next:\n",
    "        loopStart = loopStart.next\n",
    "        slow = slow.next\n",
    "\n",
    "   \n",
    "    loopStart.next = None\n",
    "\n",
    "    return head\n"
   ]
  },
  {
   "cell_type": "code",
   "execution_count": 18,
   "id": "f81168a7",
   "metadata": {},
   "outputs": [
    {
     "name": "stdout",
     "output_type": "stream",
     "text": [
      "1\n"
     ]
    }
   ],
   "source": [
    "# Example: 1->2->3->4->5->2 (loop)\n",
    "head = ListNode(1)\n",
    "head.next = ListNode(2)\n",
    "head.next.next = ListNode(3)\n",
    "head.next.next.next = ListNode(4)\n",
    "head.next.next.next.next = ListNode(5)\n",
    "head.next.next.next.next.next = head.next  \n",
    "\n",
    "new_head = removeLoop(head)\n",
    "\n",
    "\n",
    "current = new_head\n",
    "while current is not None:\n",
    "    print(current.val)\n",
    "    current = current.next\n",
    "\n"
   ]
  },
  {
   "cell_type": "markdown",
   "id": "1e22cea7",
   "metadata": {},
   "source": [
    "## **Question 6**\n",
    "\n",
    "Given a linked list and two integers M and N. Traverse the linked list such that you retain M nodes then delete next N nodes, continue the same till end of the linked list.\n",
    "Input:\n",
    "M = 2, N = 2\n",
    "Linked List: 1->2->3->4->5->6->7->8\n",
    "Output:\n",
    "Linked List: 1->2->5->6\n",
    "\n",
    "Input:\n",
    "M = 3, N = 2\n",
    "Linked List: 1->2->3->4->5->6->7->8->9->10\n",
    "Output:\n",
    "Linked List: 1->2->3->6->7->8\n",
    "\n",
    "Input:\n",
    "M = 1, N = 1\n",
    "Linked List: 1->2->3->4->5->6->7->8->9->10\n",
    "Output:\n",
    "Linked List: 1->3->5->7->9\n"
   ]
  },
  {
   "cell_type": "code",
   "execution_count": 19,
   "id": "91c16ba8",
   "metadata": {},
   "outputs": [],
   "source": [
    "class ListNode:\n",
    "    def __init__(self, val=0, next=None):\n",
    "        self.val = val\n",
    "        self.next = next\n",
    "\n",
    "def skipAndDelete(head, M, N):\n",
    "    if not head:\n",
    "        return head\n",
    "\n",
    "    # Initialize pointers\n",
    "    current = head\n",
    "    prev = None\n",
    "\n",
    "    # Traverse the linked list\n",
    "    while current:\n",
    "        # Skip M nodes\n",
    "        for _ in range(M):\n",
    "            if current:\n",
    "                prev = current\n",
    "                current = current.next\n",
    "            else:\n",
    "                break\n",
    "\n",
    "        # Delete N nodes\n",
    "        for _ in range(N):\n",
    "            if current:\n",
    "                current = current.next\n",
    "            else:\n",
    "                break\n",
    "\n",
    "        # Link previous node to the next node after deletion\n",
    "        if prev:\n",
    "            prev.next = current\n",
    "\n",
    "    return head\n",
    "\n"
   ]
  },
  {
   "cell_type": "code",
   "execution_count": 20,
   "id": "ac01b2e7",
   "metadata": {},
   "outputs": [
    {
     "name": "stdout",
     "output_type": "stream",
     "text": [
      "1 2 5 6 "
     ]
    }
   ],
   "source": [
    "# Create the linked list 1->2->3->4->5->6->7->8\n",
    "head = ListNode(1)\n",
    "head.next = ListNode(2)\n",
    "head.next.next = ListNode(3)\n",
    "head.next.next.next = ListNode(4)\n",
    "head.next.next.next.next = ListNode(5)\n",
    "head.next.next.next.next.next = ListNode(6)\n",
    "head.next.next.next.next.next.next = ListNode(7)\n",
    "head.next.next.next.next.next.next.next = ListNode(8)\n",
    "\n",
    "M = 2\n",
    "N = 2\n",
    "\n",
    "result = skipAndDelete(head, M, N)\n",
    "\n",
    "# the modified linked list\n",
    "while result:\n",
    "    print(result.val, end=\" \")\n",
    "    result = result.next"
   ]
  },
  {
   "cell_type": "markdown",
   "id": "0b947ca6",
   "metadata": {},
   "source": [
    "## **Question 7**\n",
    "\n",
    "Given two linked lists, insert nodes of second list into first list at alternate positions of first list.\n",
    "For example, if first list is 5->7->17->13->11 and second is 12->10->2->4->6, the first list should become 5->12->7->10->17->2->13->4->11->6 and second list should become empty. The nodes of second list should only be inserted when there are positions available. For example, if the first list is 1->2->3 and second list is 4->5->6->7->8, then first list should become 1->4->2->5->3->6 and second list to 7->8.\n",
    "\n",
    "Use of extra space is not allowed (Not allowed to create additional nodes), i.e., insertion must be done in-place. Expected time complexity is O(n) where n is number of nodes in first list."
   ]
  },
  {
   "cell_type": "code",
   "execution_count": 21,
   "id": "e7d9f6cb",
   "metadata": {},
   "outputs": [],
   "source": [
    "class ListNode:\n",
    "    def __init__(self, val=0, next=None):\n",
    "        self.val = val\n",
    "        self.next = next\n",
    "\n",
    "def insertAlternateNodes(first, second):\n",
    "    if not second:\n",
    "        return first\n",
    "\n",
    "    current1 = first\n",
    "    current2 = second\n",
    "\n",
    "    while current1 and current2:\n",
    "        first_next = current1.next\n",
    "        second_next = current2.next\n",
    "\n",
    "        current2.next = first_next\n",
    "        current1.next = current2\n",
    "\n",
    "        current1 = first_next\n",
    "        current2 = second_next\n",
    "\n",
    "    if current2:\n",
    "        current1.next = current2\n",
    "\n",
    "    return first\n"
   ]
  },
  {
   "cell_type": "code",
   "execution_count": 22,
   "id": "f1a5cdd7",
   "metadata": {},
   "outputs": [
    {
     "name": "stdout",
     "output_type": "stream",
     "text": [
      "5 12 7 10 17 2 13 4 11 6 "
     ]
    }
   ],
   "source": [
    "# Create the linked lists\n",
    "first = ListNode(5)\n",
    "first.next = ListNode(7)\n",
    "first.next.next = ListNode(17)\n",
    "first.next.next.next = ListNode(13)\n",
    "first.next.next.next.next = ListNode(11)\n",
    "\n",
    "second = ListNode(12)\n",
    "second.next = ListNode(10)\n",
    "second.next.next = ListNode(2)\n",
    "second.next.next.next = ListNode(4)\n",
    "second.next.next.next.next = ListNode(6)\n",
    "\n",
    "# Call the function to insert alternate nodes\n",
    "result = insertAlternateNodes(first, second)\n",
    "\n",
    "# Print the modified first list\n",
    "current = result\n",
    "while current:\n",
    "    print(current.val, end=\" \")\n",
    "    current = current.next\n"
   ]
  },
  {
   "attachments": {
    "Untitled.png": {
     "image/png": "[encoded data removed]"
    }
   },
   "cell_type": "markdown",
   "id": "ac4becd9",
   "metadata": {},
   "source": [
    "## **Question 8**\n",
    "\n",
    "Given a singly linked list, find if the linked list is circular or not.\n",
    "\n",
    "A linked list is called circular if it is not NULL-terminated and all nodes are connected in the form of a cycle. Below is an example of a circular linked list.\n",
    "\n",
    "![Untitled.png](attachment:Untitled.png)"
   ]
  },
  {
   "cell_type": "code",
   "execution_count": 10,
   "id": "71ab28b3",
   "metadata": {},
   "outputs": [],
   "source": [
    "class ListNode:\n",
    "    def __init__(self, val=0, next=None):\n",
    "        self.val = val\n",
    "        self.next = next\n",
    "\n",
    "def isCircular(head):\n",
    "    if head is None:\n",
    "        return False\n",
    "\n",
    "    slow = head\n",
    "    fast = head\n",
    "\n",
    "    while fast is not None and fast.next is not None:\n",
    "        slow = slow.next\n",
    "        fast = fast.next.next\n",
    "\n",
    "        if slow == fast:\n",
    "            return True\n",
    "\n",
    "    return False"
   ]
  },
  {
   "cell_type": "code",
   "execution_count": 23,
   "id": "b44c5df8",
   "metadata": {},
   "outputs": [
    {
     "name": "stdout",
     "output_type": "stream",
     "text": [
      "True\n"
     ]
    }
   ],
   "source": [
    "head = ListNode(10)\n",
    "head.next = ListNode(12)\n",
    "head.next.next = ListNode(14)\n",
    "head.next.next.next = ListNode(16)\n",
    "head.next.next.next.next = ListNode(10)\n",
    "head.next.next.next.next = head.next  \n",
    "\n",
    "print(isCircular(head))"
   ]
  }
 ],
 "metadata": {
  "kernelspec": {
   "display_name": "Python 3 (ipykernel)",
   "language": "python",
   "name": "python3"
  },
  "language_info": {
   "codemirror_mode": {
    "name": "ipython",
    "version": 3
   },
   "file_extension": ".py",
   "mimetype": "text/x-python",
   "name": "python",
   "nbconvert_exporter": "python",
   "pygments_lexer": "ipython3",
   "version": "3.9.7"
  }
 },
 "nbformat": 4,
 "nbformat_minor": 5
}
