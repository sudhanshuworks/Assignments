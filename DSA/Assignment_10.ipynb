{
 "cells": [
  {
   "cell_type": "markdown",
   "id": "3d940768",
   "metadata": {},
   "source": [
    "## **Question 1**\n",
    "\n",
    "Given an integer `n`, return *`true` if it is a power of three. Otherwise, return `false`*.\n",
    "\n",
    "An integer `n` is a power of three, if there exists an integer `x` such that `n == 3x`.\n",
    "\n",
    "**Example 1:**\n",
    "Input: n = 27\n",
    "Output: true"
   ]
  },
  {
   "cell_type": "code",
   "execution_count": 17,
   "id": "57aca058",
   "metadata": {},
   "outputs": [],
   "source": [
    "def power_of_three(n):\n",
    "    if n<1:\n",
    "        return False\n",
    "    if n==1:\n",
    "        return True\n",
    "    else:\n",
    "        return power_of_three(n/3)\n",
    "    "
   ]
  },
  {
   "cell_type": "code",
   "execution_count": 18,
   "id": "52d2cd01",
   "metadata": {},
   "outputs": [
    {
     "data": {
      "text/plain": [
       "False"
      ]
     },
     "execution_count": 18,
     "metadata": {},
     "output_type": "execute_result"
    }
   ],
   "source": [
    "power_of_three(0)"
   ]
  },
  {
   "cell_type": "markdown",
   "id": "6395a39b",
   "metadata": {},
   "source": [
    "## **Question 2**\n",
    "\n",
    "You have a list `arr` of all integers in the range `[1, n]` sorted in a strictly increasing order. Apply the following algorithm on `arr`:\n",
    "\n",
    "- Starting from left to right, remove the first number and every other number afterward until you reach the end of the list.\n",
    "- Repeat the previous step again, but this time from right to left, remove the rightmost number and every other number from the remaining numbers.\n",
    "- Keep repeating the steps again, alternating left to right and right to left, until a single number remains.\n",
    "\n",
    "Given the integer `n`, return *the last number that remains in* `arr`.\n",
    "\n",
    "**Example 1:**\n",
    "Input: n = 9\n",
    "\n",
    "Output: 6\n",
    "\n",
    "**Explanation:**\n",
    "\n",
    "arr = [1, 2,3, 4,5, 6,7, 8,9]\n",
    "\n",
    "arr = [2,4, 6,8]\n",
    "\n",
    "arr = [2, 6]\n",
    "\n",
    "arr = [6]\n",
    "\n"
   ]
  },
  {
   "cell_type": "code",
   "execution_count": 19,
   "id": "e4db49ee",
   "metadata": {},
   "outputs": [],
   "source": [
    "def remove_element(a,flag):\n",
    "    n=len(a)\n",
    "    if n==1:\n",
    "        return a[0]\n",
    "    if flag:\n",
    "        return remove_element(a[1::2],False)\n",
    "    else:\n",
    "        return remove_element(a[-2::-2][-1::-1],True)\n",
    " "
   ]
  },
  {
   "cell_type": "code",
   "execution_count": 20,
   "id": "9568903a",
   "metadata": {},
   "outputs": [],
   "source": [
    "def remaining_number(n):\n",
    "    arr = list(range(1, n+1))\n",
    "    return remove_element(arr,True)"
   ]
  },
  {
   "cell_type": "code",
   "execution_count": 21,
   "id": "2d2520e6",
   "metadata": {},
   "outputs": [
    {
     "data": {
      "text/plain": [
       "6"
      ]
     },
     "execution_count": 21,
     "metadata": {},
     "output_type": "execute_result"
    }
   ],
   "source": [
    "remaining_number(9)"
   ]
  },
  {
   "cell_type": "markdown",
   "id": "ad22b7b5",
   "metadata": {},
   "source": [
    "## **Question 3**\n",
    "\n",
    "Given a set represented as a string, write a recursive code to print all subsets of it. The subsets can be printed in any order.\n",
    "\n",
    "**Example 1:**\n",
    "\n",
    "Input :  set = “abc”\n",
    "\n",
    "Output : { “”, “a”, “b”, “c”, “ab”, “ac”, “bc”, “abc”}\n",
    "\n",
    "**Example 2:**\n",
    "\n",
    "Input : set = “abcd”\n",
    "\n",
    "Output : { “”, “a” ,”ab” ,”abc” ,”abcd”, “abd” ,”ac” ,”acd”, “ad” ,”b”, “bc” ,”bcd” ,”bd” ,”c” ,”cd” ,”d” }"
   ]
  },
  {
   "cell_type": "code",
   "execution_count": 22,
   "id": "7de9fa41",
   "metadata": {},
   "outputs": [
    {
     "name": "stdout",
     "output_type": "stream",
     "text": [
      "abc\n",
      "ab\n",
      "ac\n",
      "a\n",
      "bc\n",
      "b\n",
      "c\n",
      "\n"
     ]
    }
   ],
   "source": [
    "def printSubsets(s, current=\"\", index=0):\n",
    "    if index == len(s):\n",
    "        print(current)\n",
    "        return\n",
    "    printSubsets(s, current + s[index], index + 1)\n",
    "    printSubsets(s, current, index + 1)\n",
    "\n",
    "\n",
    "s = \"abc\"\n",
    "printSubsets(s)\n"
   ]
  },
  {
   "cell_type": "markdown",
   "id": "481bdc32",
   "metadata": {},
   "source": [
    "## **Question 4**\n",
    "\n",
    "Given a string calculate length of the string using recursion.\n",
    "\n",
    "**Examples:**\n",
    "Input : str = \"abcd\"\n",
    "\n",
    "Output :4\n",
    "\n",
    "\n",
    "Input : str = \"GEEKSFORGEEKS\"\n",
    "\n",
    "Output :13"
   ]
  },
  {
   "cell_type": "code",
   "execution_count": 23,
   "id": "7ec4ac61",
   "metadata": {},
   "outputs": [],
   "source": [
    "def Length_of_string(s):\n",
    "    if s == \"\":\n",
    "        return 0\n",
    "    else:\n",
    "        return 1 + Length_of_string(s[1:])\n"
   ]
  },
  {
   "cell_type": "code",
   "execution_count": 24,
   "id": "d477dae8",
   "metadata": {},
   "outputs": [
    {
     "data": {
      "text/plain": [
       "4"
      ]
     },
     "execution_count": 24,
     "metadata": {},
     "output_type": "execute_result"
    }
   ],
   "source": [
    "s = \"abcd\"\n",
    "Length_of_string(s)"
   ]
  },
  {
   "cell_type": "markdown",
   "id": "9faaa06c",
   "metadata": {},
   "source": [
    "## **Question 5**\n",
    "\n",
    "We are given a string S, we need to find count of all contiguous substrings starting and ending with same character.\n",
    "\n",
    "**Examples :**\n",
    "Input  : S = \"abcab\"\n",
    "    \n",
    "Output : 7\n",
    "There are 15 substrings of \"abcab\"\n",
    "a, ab, abc, abca, abcab, b, bc, bca\n",
    "bcab, c, ca, cab, a, ab, b\n",
    "Out of the above substrings, there\n",
    "are 7 substrings : a, abca, b, bcab,\n",
    "c, a and b.\n",
    "\n",
    "Input  : S = \"aba\"\n",
    "Output : 4\n",
    "The substrings are a, b, a and aba\n"
   ]
  },
  {
   "cell_type": "code",
   "execution_count": 25,
   "id": "75a5d502",
   "metadata": {},
   "outputs": [],
   "source": [
    "def countSubstrings(S):\n",
    "    if len(S) < 2:\n",
    "        return len(S)\n",
    "    \n",
    "    count = 0\n",
    "    if S[0] == S[-1]:\n",
    "        count += 1\n",
    "    count += countSubstrings(S[:-1])\n",
    "    count += countSubstrings(S[1:])\n",
    "    count -= countSubstrings(S[1:-1])\n",
    "    \n",
    "    return count\n"
   ]
  },
  {
   "cell_type": "code",
   "execution_count": 26,
   "id": "205e3c71",
   "metadata": {},
   "outputs": [
    {
     "data": {
      "text/plain": [
       "7"
      ]
     },
     "execution_count": 26,
     "metadata": {},
     "output_type": "execute_result"
    }
   ],
   "source": [
    "S = \"abcab\"\n",
    "countSubstrings(S)\n"
   ]
  },
  {
   "cell_type": "markdown",
   "id": "2b4ec2af",
   "metadata": {},
   "source": [
    "## **Question 6**\n",
    "\n",
    "The tower of Hanoi is a famous puzzle where we have three rods and **N** disks. The objective of the puzzle is to move the entire stack to another rod. You are given the number of discs **N**. Initially, these discs are in the rod 1. You need to print all the steps of discs movement so that all the discs reach the 3rd rod. Also, you need to find the total moves.**Note:** The discs are arranged such that the **top disc is numbered 1** and the **bottom-most disc is numbered N**. Also, all the discs have **different sizes** and a bigger disc **cannot** be put on the top of a smaller disc. Refer the provided link to get a better clarity about the puzzle.\n"
   ]
  },
  {
   "cell_type": "code",
   "execution_count": 27,
   "id": "12d19b66",
   "metadata": {},
   "outputs": [],
   "source": [
    "def towerOfHanoi(n, source, destination, auxiliary):\n",
    "    if n == 1:\n",
    "        print(\"Move disk 1 from rod\", source, \"to rod\", destination)\n",
    "        return 1\n",
    "    \n",
    "    moves = 0\n",
    "    moves += towerOfHanoi(n-1, source, auxiliary, destination)\n",
    "    print(\"Move disk\", n, \"from rod\", source, \"to rod\", destination)\n",
    "    moves += 1\n",
    "    moves += towerOfHanoi(n-1, auxiliary, destination, source)\n",
    "    return moves"
   ]
  },
  {
   "cell_type": "code",
   "execution_count": 28,
   "id": "81538e3a",
   "metadata": {},
   "outputs": [
    {
     "name": "stdout",
     "output_type": "stream",
     "text": [
      "Move disk 1 from rod 1 to rod 2\n",
      "Move disk 2 from rod 1 to rod 3\n",
      "Move disk 1 from rod 2 to rod 3\n"
     ]
    },
    {
     "data": {
      "text/plain": [
       "3"
      ]
     },
     "execution_count": 28,
     "metadata": {},
     "output_type": "execute_result"
    }
   ],
   "source": [
    "n = 2  \n",
    "source = 1 \n",
    "destination = 3  \n",
    "auxiliary = 2\n",
    "towerOfHanoi(n, source, destination, auxiliary)"
   ]
  },
  {
   "cell_type": "markdown",
   "id": "a7788362",
   "metadata": {},
   "source": [
    "## **Question 7**\n",
    "\n",
    "Given a string **str**, the task is to print all the permutations of **str**. A **permutation** is an arrangement of all or part of a set of objects, with regard to the order of the arrangement. For instance, the words ‘bat’ and ‘tab’ represents two distinct permutation (or arrangements) of a similar three letter word.\n",
    "\n",
    "**Examples:**\n",
    "\n",
    "> Input: str = “cd”\n",
    "> \n",
    "> \n",
    "> **Output:** cd dc\n",
    "> \n",
    "> **Input:** str = “abb”\n",
    "> \n",
    "> **Output:** abb abb bab bba bab bba\n"
   ]
  },
  {
   "cell_type": "code",
   "execution_count": 29,
   "id": "b35d8b88",
   "metadata": {},
   "outputs": [],
   "source": [
    "def permute(str):\n",
    "    if len(str) == 1:\n",
    "        return [str]\n",
    "\n",
    "    permutations = []\n",
    "\n",
    "    for i in range(len(str)):\n",
    "        current_char = str[i]\n",
    "        remaining_chars = str[:i] + str[i+1:]\n",
    "        sub_permutations = permute(remaining_chars)\n",
    "\n",
    "        for sub_permutation in sub_permutations:\n",
    "            permutations.append(current_char + sub_permutation)\n",
    "\n",
    "    return permutations\n"
   ]
  },
  {
   "cell_type": "code",
   "execution_count": 30,
   "id": "987ae669",
   "metadata": {},
   "outputs": [
    {
     "name": "stdout",
     "output_type": "stream",
     "text": [
      "cd\n",
      "dc\n"
     ]
    }
   ],
   "source": [
    "str = \"cd\"\n",
    "permutations = permute(str)\n",
    "\n",
    "for permutation in permutations:\n",
    "    print(permutation)\n"
   ]
  },
  {
   "cell_type": "markdown",
   "id": "883c20f9",
   "metadata": {},
   "source": [
    "## **Question 8**\n",
    "\n",
    "Given a string, count total number of consonants in it. A consonant is an English alphabet character that is not vowel (a, e, i, o and u). Examples of constants are b, c, d, f, and g.\n",
    "\n",
    "**Examples :**\n",
    "Input : abc de\n",
    "Output : 3\n",
    "There are three consonants b, c and d.\n",
    "\n",
    "Input : geeksforgeeks portal\n",
    "Output : 12"
   ]
  },
  {
   "cell_type": "code",
   "execution_count": 31,
   "id": "643d3b1e",
   "metadata": {},
   "outputs": [],
   "source": [
    "def count_consonants(string):\n",
    "    consonants = \"bcdfghjklmnpqrstvwxyzBCDFGHJKLMNPQRSTVWXYZ\"\n",
    "\n",
    "    if string == \"\":\n",
    "        return 0\n",
    "\n",
    "    if string[0] in consonants:\n",
    "        return 1 + count_consonants(string[1:])\n",
    "    else:\n",
    "        return count_consonants(string[1:])\n"
   ]
  },
  {
   "cell_type": "code",
   "execution_count": 32,
   "id": "9d83aaef",
   "metadata": {},
   "outputs": [
    {
     "data": {
      "text/plain": [
       "3"
      ]
     },
     "execution_count": 32,
     "metadata": {},
     "output_type": "execute_result"
    }
   ],
   "source": [
    "string = \"abcde\"\n",
    "count_consonants(string)"
   ]
  }
 ],
 "metadata": {
  "kernelspec": {
   "display_name": "Python 3 (ipykernel)",
   "language": "python",
   "name": "python3"
  },
  "language_info": {
   "codemirror_mode": {
    "name": "ipython",
    "version": 3
   },
   "file_extension": ".py",
   "mimetype": "text/x-python",
   "name": "python",
   "nbconvert_exporter": "python",
   "pygments_lexer": "ipython3",
   "version": "3.9.7"
  }
 },
 "nbformat": 4,
 "nbformat_minor": 5
}
