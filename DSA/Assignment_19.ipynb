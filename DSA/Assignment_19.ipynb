{
 "cells": [
  {
   "cell_type": "markdown",
   "id": "257ac030",
   "metadata": {},
   "source": [
    "## 1. **Merge k Sorted Lists**\n",
    "\n",
    "You are given an array of `k` linked-lists `lists`, each linked-list is sorted in ascending order.\n",
    "\n",
    "*Merge all the linked-lists into one sorted linked-list and return it.*\n",
    "\n",
    "**Example 1:**\n",
    "\n",
    "```\n",
    "Input: lists = [[1,4,5],[1,3,4],[2,6]]\n",
    "Output: [1,1,2,3,4,4,5,6]\n",
    "Explanation: The linked-lists are:\n",
    "[\n",
    "  1->4->5,\n",
    "  1->3->4,\n",
    "  2->6\n",
    "]\n",
    "merging them into one sorted list:\n",
    "1->1->2->3->4->4->5->6\n",
    "\n",
    "```\n",
    "\n",
    "**Example 2:**\n",
    "\n",
    "```\n",
    "Input: lists = []\n",
    "Output: []\n",
    "\n",
    "```\n",
    "\n",
    "**Example 3:**\n",
    "\n",
    "```\n",
    "Input: lists = [[]]\n",
    "Output: []\n",
    "\n",
    "```\n",
    "\n",
    "**Constraints:**\n",
    "\n",
    "- `k == lists.length`\n",
    "- `0 <= k <= 10000`\n",
    "- `0 <= lists[i].length <= 500`\n",
    "- `-10000 <= lists[i][j] <= 10000`\n",
    "- `lists[i]` is sorted in **ascending order**.\n",
    "- The sum of `lists[i].length` will not exceed `10000`."
   ]
  },
  {
   "cell_type": "code",
   "execution_count": 23,
   "id": "83af310a",
   "metadata": {},
   "outputs": [],
   "source": [
    "import heapq\n",
    "\n",
    "class ListNode:\n",
    "    def __init__(self, val=0, next=None):\n",
    "        self.val = val\n",
    "        self.next = next\n",
    "\n",
    "def mergeKLists(lists):\n",
    "    # Create a min heap\n",
    "    heap = []\n",
    "    \n",
    "\n",
    "    for i, lst in enumerate(lists):\n",
    "        if lst:\n",
    "            heapq.heappush(heap, (lst.val, i))\n",
    "            lists[i] = lst.next\n",
    "    \n",
    "\n",
    "    dummy = ListNode()\n",
    "    curr = dummy\n",
    "\n",
    "    while heap:\n",
    "        val, i = heapq.heappop(heap)\n",
    "        curr.next = ListNode(val)\n",
    "        curr = curr.next\n",
    "        \n",
    "        if lists[i]:\n",
    "            heapq.heappush(heap, (lists[i].val, i))\n",
    "            lists[i] = lists[i].next\n",
    "    \n",
    "    return dummy.next"
   ]
  },
  {
   "cell_type": "code",
   "execution_count": 24,
   "id": "e6de5aa0",
   "metadata": {},
   "outputs": [
    {
     "name": "stdout",
     "output_type": "stream",
     "text": [
      "1->1->2->3->4->4->5->6->\n",
      "\n",
      "\n"
     ]
    }
   ],
   "source": [
    "lists1 = [\n",
    "    ListNode(1, ListNode(4, ListNode(5))),\n",
    "    ListNode(1, ListNode(3, ListNode(4))),\n",
    "    ListNode(2, ListNode(6))\n",
    "]\n",
    "merged1 = mergeKLists(lists1)\n",
    "while merged1:\n",
    "    print(merged1.val, end=\"->\")\n",
    "    merged1 = merged1.next\n",
    "print()\n",
    "\n",
    "\n",
    "lists2 = []\n",
    "merged2 = mergeKLists(lists2)\n",
    "while merged2:\n",
    "    print(merged2.val, end=\"->\")\n",
    "    merged2 = merged2.next\n",
    "\n",
    "print()\n",
    "\n",
    "\n",
    "lists3 = [[]]\n",
    "merged3 = mergeKLists(lists3)\n",
    "while merged3:\n",
    "    print(merged3.val, end=\"->\")\n",
    "    merged3 = merged3.next\n",
    "print()\n"
   ]
  },
  {
   "cell_type": "markdown",
   "id": "3f7a74d1",
   "metadata": {},
   "source": [
    "## 2. **Count of Smaller Numbers After Self**\n",
    "\n",
    "Given an integer array `nums`, return *an integer array* `counts` *where* `counts[i]` *is the number of smaller elements to the right of* `nums[i]`.\n",
    "\n",
    "**Example 1:**\n",
    "\n",
    "```\n",
    "Input: nums = [5,2,6,1]\n",
    "Output: [2,1,1,0]\n",
    "Explanation:\n",
    "To the right of 5 there are2 smaller elements (2 and 1).\n",
    "To the right of 2 there is only1 smaller element (1).\n",
    "To the right of 6 there is1 smaller element (1).\n",
    "To the right of 1 there is0 smaller element.\n",
    "\n",
    "```\n",
    "\n",
    "**Example 2:**\n",
    "\n",
    "```\n",
    "Input: nums = [-1]\n",
    "Output: [0]\n",
    "\n",
    "```\n",
    "\n",
    "**Example 3:**\n",
    "\n",
    "```\n",
    "Input: nums = [-1,-1]\n",
    "Output: [0,0]\n",
    "\n",
    "```\n",
    "\n",
    "**Constraints:**\n",
    "\n",
    "- `1 <= nums.length <= 100000`\n",
    "- `-10000 <= nums[i] <= 10000`"
   ]
  },
  {
   "cell_type": "code",
   "execution_count": 25,
   "id": "f21230d5",
   "metadata": {},
   "outputs": [],
   "source": [
    "def countSmaller(nums):\n",
    "    def mergeSort(arr):\n",
    "        if len(arr) <= 1:\n",
    "            return arr\n",
    "        \n",
    "        mid = len(arr) // 2\n",
    "        left = mergeSort(arr[:mid])\n",
    "        right = mergeSort(arr[mid:])\n",
    "        \n",
    "        return merge(left, right)\n",
    "    \n",
    "    def merge(left, right):\n",
    "        merged = []\n",
    "        count = 0\n",
    "        i = 0\n",
    "        j = 0\n",
    "        \n",
    "        while i < len(left) and j < len(right):\n",
    "            if left[i][0] <= right[j][0]:\n",
    "                merged.append(left[i])\n",
    "                counts[left[i][1]] += count\n",
    "                i += 1\n",
    "            else:\n",
    "                merged.append(right[j])\n",
    "                count += 1\n",
    "                j += 1\n",
    "        \n",
    "        while i < len(left):\n",
    "            merged.append(left[i])\n",
    "            counts[left[i][1]] += count\n",
    "            i += 1\n",
    "        \n",
    "        while j < len(right):\n",
    "            merged.append(right[j])\n",
    "            j += 1\n",
    "        \n",
    "        return merged\n",
    "    \n",
    "    n = len(nums)\n",
    "    counts = [0] * n\n",
    "    indexedNums = [(nums[i], i) for i in range(n)]\n",
    "    mergeSort(indexedNums)\n",
    "    \n",
    "    return counts"
   ]
  },
  {
   "cell_type": "code",
   "execution_count": 26,
   "id": "6c94c9d0",
   "metadata": {},
   "outputs": [
    {
     "name": "stdout",
     "output_type": "stream",
     "text": [
      "[2, 1, 1, 0]\n",
      "[0]\n",
      "[0, 0]\n"
     ]
    }
   ],
   "source": [
    "nums1 = [5, 2, 6, 1]\n",
    "print(countSmaller(nums1))\n",
    "\n",
    "nums2 = [-1]\n",
    "print(countSmaller(nums2))\n",
    "\n",
    "\n",
    "nums3 = [-1, -1]\n",
    "print(countSmaller(nums3))\n"
   ]
  },
  {
   "cell_type": "markdown",
   "id": "ad02532c",
   "metadata": {},
   "source": [
    "## 3. **Sort an Array**\n",
    "\n",
    "Given an array of integers `nums`, sort the array in ascending order and return it.\n",
    "\n",
    "You must solve the problem **without using any built-in** functions in `O(nlog(n))` time complexity and with the smallest space complexity possible.\n",
    "\n",
    "**Example 1:**\n",
    "\n",
    "```\n",
    "Input: nums = [5,2,3,1]\n",
    "Output: [1,2,3,5]\n",
    "Explanation: After sorting the array, the positions of some numbers are not changed (for example, 2 and 3), while the positions of other numbers are changed (for example, 1 and 5).\n",
    "\n",
    "```\n",
    "\n",
    "**Example 2:**\n",
    "\n",
    "```\n",
    "Input: nums = [5,1,1,2,0,0]\n",
    "Output: [0,0,1,1,2,5]\n",
    "Explanation: Note that the values of nums are not necessairly unique.\n",
    "\n",
    "```\n",
    "\n",
    "**Constraints:**\n",
    "\n",
    "- `1 <= nums.length <= 5 * 10000`\n",
    "- `-5 * 104 <= nums[i] <= 5 * 10000`"
   ]
  },
  {
   "cell_type": "code",
   "execution_count": 27,
   "id": "22cd518d",
   "metadata": {},
   "outputs": [],
   "source": [
    "def sortArray(nums):\n",
    "    def partition(nums, low, high):\n",
    "        pivot = nums[high]\n",
    "        i = low - 1\n",
    "        \n",
    "        for j in range(low, high):\n",
    "            if nums[j] <= pivot:\n",
    "                i += 1\n",
    "                nums[i], nums[j] = nums[j], nums[i]\n",
    "        \n",
    "        nums[i+1], nums[high] = nums[high], nums[i+1]\n",
    "        return i+1\n",
    "    \n",
    "    def quickSort(nums, low, high):\n",
    "        if low < high:\n",
    "            pivot_index = partition(nums, low, high)\n",
    "            quickSort(nums, low, pivot_index - 1)\n",
    "            quickSort(nums, pivot_index + 1, high)\n",
    "    \n",
    "    quickSort(nums, 0, len(nums) - 1)\n",
    "    return nums"
   ]
  },
  {
   "cell_type": "code",
   "execution_count": 28,
   "id": "b6e79720",
   "metadata": {},
   "outputs": [
    {
     "name": "stdout",
     "output_type": "stream",
     "text": [
      "[1, 2, 3, 5]\n",
      "[0, 0, 1, 1, 2, 5]\n"
     ]
    }
   ],
   "source": [
    "nums1 = [5, 2, 3, 1]\n",
    "print(sortArray(nums1))\n",
    "\n",
    "nums2 = [5, 1, 1, 2, 0, 0]\n",
    "print(sortArray(nums2))"
   ]
  },
  {
   "cell_type": "markdown",
   "id": "fb7f6a65",
   "metadata": {},
   "source": [
    "## 4. **Move all zeroes to end of array**\n",
    "\n",
    "Given an array of random numbers, Push all the zero’s of a given array to the end of the array. For example, if the given arrays is {1, 9, 8, 4, 0, 0, 2, 7, 0, 6, 0}, it should be changed to {1, 9, 8, 4, 2, 7, 6, 0, 0, 0, 0}. The order of all other elements should be same. Expected time complexity is O(n) and extra space is O(1).\n",
    "\n",
    "**Example:**\n",
    "\n",
    "```\n",
    "Input :  arr[] = {1, 2, 0, 4, 3, 0, 5, 0};\n",
    "Output : arr[] = {1, 2, 4, 3, 5, 0, 0, 0};\n",
    "\n",
    "Input : arr[]  = {1, 2, 0, 0, 0, 3, 6};\n",
    "Output : arr[] = {1, 2, 3, 6, 0, 0, 0};\n",
    "```"
   ]
  },
  {
   "cell_type": "code",
   "execution_count": 29,
   "id": "76a309a8",
   "metadata": {},
   "outputs": [],
   "source": [
    "def moveZeroesToEnd(arr):\n",
    "    left = 0\n",
    "    right = len(arr) - 1\n",
    "\n",
    "    while left < right:\n",
    "        if arr[left] != 0:\n",
    "            left += 1\n",
    "        elif arr[right] == 0:\n",
    "            right -= 1\n",
    "        else:\n",
    "            arr[left], arr[right] = arr[right], arr[left]\n",
    "            left += 1\n",
    "            right -= 1\n",
    "    \n",
    "    return arr"
   ]
  },
  {
   "cell_type": "code",
   "execution_count": 30,
   "id": "67ca4e97",
   "metadata": {},
   "outputs": [
    {
     "name": "stdout",
     "output_type": "stream",
     "text": [
      "[1, 2, 5, 4, 3, 0, 0, 0]\n",
      "[1, 2, 6, 3, 0, 0, 0]\n"
     ]
    }
   ],
   "source": [
    "arr1 = [1, 2, 0, 4, 3, 0, 5, 0]\n",
    "print(moveZeroesToEnd(arr1))\n",
    "\n",
    "\n",
    "arr2 = [1, 2, 0, 0, 0, 3, 6]\n",
    "print(moveZeroesToEnd(arr2))"
   ]
  },
  {
   "cell_type": "markdown",
   "id": "1c564aa2",
   "metadata": {},
   "source": [
    "## 5. **Rearrange array in alternating positive & negative items with O(1) extra space**\n",
    "\n",
    "Given an **array of positive** and **negative numbers**, arrange them in an **alternate** fashion such that every positive number is followed by a negative and vice-versa maintaining the **order of appearance**. The number of positive and negative numbers need not be equal. If there are more positive numbers they appear at the end of the array. If there are more negative numbers, they too appear at the end of the array.\n",
    "\n",
    "**Examples:**\n",
    "\n",
    "```\n",
    "Input:  arr[] = {1, 2, 3, -4, -1, 4}\n",
    "Output: arr[] = {-4, 1, -1, 2, 3, 4}\n",
    "\n",
    "Input:  arr[] = {-5, -2, 5, 2, 4, 7, 1, 8, 0, -8}\n",
    "Output: arr[] = {-5, 5, -2, 2, -8, 4, 7, 1, 8, 0}\n",
    "```"
   ]
  },
  {
   "cell_type": "code",
   "execution_count": 31,
   "id": "11363d61",
   "metadata": {},
   "outputs": [],
   "source": [
    "def rearrangeAlternate(arr):\n",
    "    i = 0\n",
    "    j = 0\n",
    "    n = len(arr)\n",
    "\n",
    "    while i < n and j < n:\n",
    "        while i < n and arr[i] >= 0:\n",
    "            i += 1\n",
    "\n",
    "        while j < n and arr[j] < 0:\n",
    "            j += 1\n",
    "\n",
    "        if i < n and j < n:\n",
    "            arr[i], arr[j] = arr[j], arr[i]\n",
    "            i += 1\n",
    "            j += 1\n",
    "    \n",
    "    return arr"
   ]
  },
  {
   "cell_type": "code",
   "execution_count": 32,
   "id": "33229164",
   "metadata": {},
   "outputs": [
    {
     "name": "stdout",
     "output_type": "stream",
     "text": [
      "[-4, -1, 3, 1, 2, 4]\n",
      "[5, 2, 4, 7, 1, 8, 0, -2, -5, -8]\n"
     ]
    }
   ],
   "source": [
    "arr1 = [1, 2, 3, -4, -1, 4]\n",
    "print(rearrangeAlternate(arr1))\n",
    "\n",
    "arr2 = [-5, -2, 5, 2, 4, 7, 1, 8, 0, -8]\n",
    "print(rearrangeAlternate(arr2))"
   ]
  },
  {
   "cell_type": "markdown",
   "id": "7f721bbb",
   "metadata": {},
   "source": [
    "## **6. Merge two sorted arrays**\n",
    "\n",
    "Given two sorted arrays, the task is to merge them in a sorted manner.\n",
    "\n",
    "**Examples:**\n",
    "\n",
    "```\n",
    "Input: arr1[] = { 1, 3, 4, 5}, arr2[] = {2, 4, 6, 8} \n",
    "Output: arr3[] = {1, 2, 3, 4, 4, 5, 6, 8}\n",
    "\n",
    "Input: arr1[] = { 5, 8, 9}, arr2[] = {4, 7, 8}\n",
    "Output: arr3[] = {4, 5, 7, 8, 8, 9}\n",
    "```"
   ]
  },
  {
   "cell_type": "code",
   "execution_count": 33,
   "id": "87b056db",
   "metadata": {},
   "outputs": [],
   "source": [
    "def mergeArrays(arr1, arr2):\n",
    "    n1 = len(arr1)\n",
    "    n2 = len(arr2)\n",
    "    arr3 = []\n",
    "    i = 0\n",
    "    j = 0\n",
    "\n",
    "    while i < n1 and j < n2:\n",
    "        if arr1[i] <= arr2[j]:\n",
    "            arr3.append(arr1[i])\n",
    "            i += 1\n",
    "        else:\n",
    "            arr3.append(arr2[j])\n",
    "            j += 1\n",
    "\n",
    "    while i < n1:\n",
    "        arr3.append(arr1[i])\n",
    "        i += 1\n",
    "\n",
    "    while j < n2:\n",
    "        arr3.append(arr2[j])\n",
    "        j += 1\n",
    "\n",
    "    return arr3"
   ]
  },
  {
   "cell_type": "code",
   "execution_count": 34,
   "id": "fef5333c",
   "metadata": {},
   "outputs": [
    {
     "name": "stdout",
     "output_type": "stream",
     "text": [
      "[1, 2, 3, 4, 4, 5, 6, 8]\n",
      "[4, 5, 7, 8, 8, 9]\n"
     ]
    }
   ],
   "source": [
    "arr1 = [1, 3, 4, 5]\n",
    "arr2 = [2, 4, 6, 8]\n",
    "print(mergeArrays(arr1, arr2))\n",
    "\n",
    "\n",
    "arr1 = [5, 8, 9]\n",
    "arr2 = [4, 7, 8]\n",
    "print(mergeArrays(arr1, arr2))"
   ]
  },
  {
   "cell_type": "markdown",
   "id": "a04ca7c4",
   "metadata": {},
   "source": [
    "## 7. **Intersection of Two Arrays**\n",
    "\n",
    "Given two integer arrays `nums1` and `nums2`, return *an array of their intersection*. Each element in the result must be **unique** and you may return the result in **any order**.\n",
    "\n",
    "**Example 1:**\n",
    "\n",
    "```\n",
    "Input: nums1 = [1,2,2,1], nums2 = [2,2]\n",
    "Output: [2]\n",
    "\n",
    "```\n",
    "\n",
    "**Example 2:**\n",
    "\n",
    "```\n",
    "Input: nums1 = [4,9,5], nums2 = [9,4,9,8,4]\n",
    "Output: [9,4]\n",
    "Explanation: [4,9] is also accepted.\n",
    "\n",
    "```\n",
    "\n",
    "**Constraints:**\n",
    "\n",
    "- `1 <= nums1.length, nums2.length <= 1000`\n",
    "- `0 <= nums1[i], nums2[i] <= 1000`"
   ]
  },
  {
   "cell_type": "code",
   "execution_count": 35,
   "id": "92ae3c73",
   "metadata": {},
   "outputs": [],
   "source": [
    "def intersection(nums1, nums2):\n",
    "    set1 = set(nums1)\n",
    "    intersection = set()\n",
    "\n",
    "    for num in nums2:\n",
    "        if num in set1:\n",
    "            intersection.add(num)\n",
    "\n",
    "    return list(intersection)"
   ]
  },
  {
   "cell_type": "code",
   "execution_count": 36,
   "id": "a85cfffb",
   "metadata": {},
   "outputs": [
    {
     "name": "stdout",
     "output_type": "stream",
     "text": [
      "[2]\n",
      "[9, 4]\n"
     ]
    }
   ],
   "source": [
    "nums1 = [1, 2, 2, 1]\n",
    "nums2 = [2, 2]\n",
    "print(intersection(nums1, nums2))\n",
    "\n",
    "\n",
    "nums1 = [4, 9, 5]\n",
    "nums2 = [9, 4, 9, 8, 4]\n",
    "print(intersection(nums1, nums2))"
   ]
  },
  {
   "cell_type": "markdown",
   "id": "189181d0",
   "metadata": {},
   "source": [
    "## 8. **Intersection of Two Arrays II**\n",
    "\n",
    "Given two integer arrays `nums1` and `nums2`, return *an array of their intersection*. Each element in the result must appear as many times as it shows in both arrays and you may return the result in **any order**.\n",
    "\n",
    "**Example 1:**\n",
    "\n",
    "```\n",
    "Input: nums1 = [1,2,2,1], nums2 = [2,2]\n",
    "Output: [2,2]\n",
    "\n",
    "```\n",
    "\n",
    "**Example 2:**\n",
    "\n",
    "```\n",
    "Input: nums1 = [4,9,5], nums2 = [9,4,9,8,4]\n",
    "Output: [4,9]\n",
    "Explanation: [9,4] is also accepted.\n",
    "\n",
    "```\n",
    "\n",
    "**Constraints:**\n",
    "\n",
    "- `1 <= nums1.length, nums2.length <= 1000`\n",
    "- `0 <= nums1[i], nums2[i] <= 1000`"
   ]
  },
  {
   "cell_type": "code",
   "execution_count": 37,
   "id": "d681cad5",
   "metadata": {},
   "outputs": [],
   "source": [
    "from collections import defaultdict\n",
    "\n",
    "def intersect(nums1, nums2):\n",
    "    freqMap = defaultdict(int)\n",
    "    intersection = []\n",
    "\n",
    "    for num in nums1:\n",
    "        freqMap[num] += 1\n",
    "\n",
    "    for num in nums2:\n",
    "        if freqMap[num] > 0:\n",
    "            intersection.append(num)\n",
    "            freqMap[num] -= 1\n",
    "\n",
    "    return intersection"
   ]
  },
  {
   "cell_type": "code",
   "execution_count": 38,
   "id": "c1cd3548",
   "metadata": {},
   "outputs": [
    {
     "name": "stdout",
     "output_type": "stream",
     "text": [
      "[2, 2]\n",
      "[9, 4]\n"
     ]
    }
   ],
   "source": [
    "nums1 = [1, 2, 2, 1]\n",
    "nums2 = [2, 2]\n",
    "print(intersect(nums1, nums2))\n",
    "\n",
    "\n",
    "nums1 = [4, 9, 5]\n",
    "nums2 = [9, 4, 9, 8, 4]\n",
    "print(intersect(nums1, nums2))"
   ]
  }
 ],
 "metadata": {
  "kernelspec": {
   "display_name": "Python 3 (ipykernel)",
   "language": "python",
   "name": "python3"
  },
  "language_info": {
   "codemirror_mode": {
    "name": "ipython",
    "version": 3
   },
   "file_extension": ".py",
   "mimetype": "text/x-python",
   "name": "python",
   "nbconvert_exporter": "python",
   "pygments_lexer": "ipython3",
   "version": "3.9.7"
  }
 },
 "nbformat": 4,
 "nbformat_minor": 5
}
