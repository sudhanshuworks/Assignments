{
 "cells": [
  {
   "cell_type": "markdown",
   "id": "7fb3e5ce",
   "metadata": {},
   "source": [
    "## Question-1:\n",
    "\n",
    "Given preorder of a binary tree, calculate its **[depth(or height)](https://www.geeksforgeeks.org/write-a-c-program-to-find-the-maximum-depth-or-height-of-a-tree/)** [starting from depth 0]. The preorder is given as a string with two possible characters.\n",
    "\n",
    "1. ‘l’ denotes the leaf\n",
    "2. ‘n’ denotes internal node\n",
    "\n",
    "The given tree can be seen as a full binary tree where every node has 0 or two children. The two children of a node can ‘n’ or ‘l’ or mix of both.\n",
    "\n",
    "**Examples :**\n",
    "\n",
    "Input  : nlnll\n",
    "Output : 2\n"
   ]
  },
  {
   "cell_type": "code",
   "execution_count": 14,
   "id": "5cdcab0f",
   "metadata": {},
   "outputs": [
    {
     "name": "stdout",
     "output_type": "stream",
     "text": [
      "2\n"
     ]
    }
   ],
   "source": [
    "def calculate_depth(preorder):\n",
    "    depth = 0\n",
    "    for char in preorder:\n",
    "        if char == 'n':\n",
    "            depth += 1\n",
    "    return depth\n",
    "\n",
    "preorder = 'nlnll'\n",
    "depth = calculate_depth(preorder)\n",
    "print(depth)  \n"
   ]
  },
  {
   "cell_type": "markdown",
   "id": "31b0cdca",
   "metadata": {},
   "source": [
    "## Question-2:\n",
    "\n",
    "Given a Binary tree, the task is to print the **left view** of the Binary Tree. The left view of a Binary Tree is a set of leftmost nodes for every level.\n",
    "\n",
    "**Examples:**\n",
    "\n",
    "***Input:***\n",
    "\n",
    "            4\n",
    "\n",
    "          /   \\\n",
    "\n",
    "        5     2\n",
    "\n",
    "             /   \\\n",
    "\n",
    "            3     1\n",
    "\n",
    "           /  \\\n",
    "\n",
    "          6    7\n",
    "\n",
    "***Output:** 4 5 3 6*\n"
   ]
  },
  {
   "cell_type": "code",
   "execution_count": 15,
   "id": "aed422cb",
   "metadata": {},
   "outputs": [
    {
     "name": "stdout",
     "output_type": "stream",
     "text": [
      "Left view of the binary tree:\n",
      "4 5 3 6 "
     ]
    }
   ],
   "source": [
    "class Node:\n",
    "    def __init__(self, value):\n",
    "        self.data = value\n",
    "        self.left = None\n",
    "        self.right = None\n",
    "\n",
    "def print_left_view_util(node, level, max_level):\n",
    "    if node is None:\n",
    "        return\n",
    "\n",
    "    if level > max_level[0]:\n",
    "        print(node.data, end=\" \")\n",
    "        max_level[0] = level\n",
    "\n",
    "    print_left_view_util(node.left, level + 1, max_level)\n",
    "    print_left_view_util(node.right, level + 1, max_level)\n",
    "\n",
    "def print_left_view(root):\n",
    "    max_level = [0]\n",
    "    print_left_view_util(root, 1, max_level)\n",
    "\n",
    "root = Node(4)\n",
    "root.left = Node(5)\n",
    "root.right = Node(2)\n",
    "root.right.left = Node(3)\n",
    "root.right.right = Node(1)\n",
    "root.right.left.left = Node(6)\n",
    "root.right.left.right = Node(7)\n",
    "\n",
    "print(\"Left view of the binary tree:\")\n",
    "print_left_view(root)\n"
   ]
  },
  {
   "cell_type": "markdown",
   "id": "f58b9b61",
   "metadata": {},
   "source": [
    "## Question-3:\n",
    "\n",
    "Given a Binary Tree, print the Right view of it.\n",
    "\n",
    "The right view of a Binary Tree is a set of nodes visible when the tree is visited from the Right side.\n",
    "\n",
    "**Examples:**\n",
    "\n",
    "**Input:**\n",
    "```\n",
    "         1\n",
    "\n",
    "      /     \\\n",
    "   2         3\n",
    "/    \\      /  \\\n",
    "4     5    6    7\n",
    "            \\\n",
    "             8\n",
    "```\n",
    "**Output**: \n",
    "\n",
    "Right view of the tree is 1 3 7 8\n"
   ]
  },
  {
   "cell_type": "code",
   "execution_count": 18,
   "id": "0ca75446",
   "metadata": {},
   "outputs": [
    {
     "name": "stdout",
     "output_type": "stream",
     "text": [
      "Right view of the binary tree:\n",
      "1 3 7 8 "
     ]
    }
   ],
   "source": [
    "class Node:\n",
    "    def __init__(self, value):\n",
    "        self.data = value\n",
    "        self.left = None\n",
    "        self.right = None\n",
    "\n",
    "def print_right_view_util(node, level, max_level):\n",
    "    if node is None:\n",
    "        return\n",
    "\n",
    "    if level > max_level[0]:\n",
    "        print(node.data, end=\" \")\n",
    "        max_level[0] = level\n",
    "\n",
    "    print_right_view_util(node.right, level + 1, max_level)\n",
    "    print_right_view_util(node.left, level + 1, max_level)\n",
    "\n",
    "def print_right_view(root):\n",
    "    max_level = [0]\n",
    "    print_right_view_util(root, 1, max_level)\n",
    "\n",
    "root = Node(1)\n",
    "root.left = Node(2)\n",
    "root.right = Node(3)\n",
    "root.left.left = Node(4)\n",
    "root.left.right = Node(5)\n",
    "root.right.left = Node(6)\n",
    "root.right.right = Node(7)\n",
    "root.right.right.right = Node(8)\n",
    "\n",
    "print(\"Right view of the binary tree:\")\n",
    "print_right_view(root)\n"
   ]
  },
  {
   "cell_type": "markdown",
   "id": "d7ef877d",
   "metadata": {},
   "source": [
    "## Question-4:\n",
    "\n",
    "Given a Binary Tree, The task is to print the **bottom view** from left to right. A node **x** is there in output if x is the bottommost node at its horizontal distance. The horizontal distance of the left child of a node x is equal to a horizontal distance of x minus 1, and that of a right child is the horizontal distance of x plus 1.\n",
    "\n",
    "**Examples:**\n",
    "\n",
    "**Input:**\n",
    "```\n",
    "             20\n",
    "\n",
    "           /     \\\n",
    "\n",
    "        8         22\n",
    "\n",
    "    /      \\         \\\n",
    "\n",
    "   5         3        25\n",
    "\n",
    "        /    \\\n",
    "\n",
    "     10       14\n",
    "```\n",
    "**Output:** 5, 10, 3, 14, 25.\n",
    "\n",
    "**Input:**\n",
    "\n",
    "```           20\n",
    "\n",
    "           /     \\\n",
    "\n",
    "        8         22\n",
    "\n",
    "    /      \\      /   \\\n",
    "\n",
    "  5         3    4      25\n",
    "\n",
    "         /    \\\n",
    "\n",
    "      10       14\n",
    "```\n",
    "**Output:**\n",
    "\n",
    "5 10 4 14 25.\n"
   ]
  },
  {
   "cell_type": "code",
   "execution_count": 19,
   "id": "3514d234",
   "metadata": {},
   "outputs": [
    {
     "name": "stdout",
     "output_type": "stream",
     "text": [
      "Bottom view of the binary tree:\n",
      "5 10 3 14 25 "
     ]
    }
   ],
   "source": [
    "from collections import deque\n",
    "\n",
    "class Node:\n",
    "    def __init__(self, value):\n",
    "        self.data = value\n",
    "        self.horizontal_distance = 0\n",
    "        self.left = None\n",
    "        self.right = None\n",
    "\n",
    "def bottom_view_util(root):\n",
    "    if root is None:\n",
    "        return\n",
    "\n",
    "    queue = deque()\n",
    "    queue.append((root, 0))\n",
    "    bottom_view = {}\n",
    "\n",
    "    while queue:\n",
    "        node, hd = queue.popleft()\n",
    "        bottom_view[hd] = node.data\n",
    "\n",
    "        if node.left:\n",
    "            node.left.horizontal_distance = hd - 1\n",
    "            queue.append((node.left, hd - 1))\n",
    "\n",
    "        if node.right:\n",
    "            node.right.horizontal_distance = hd + 1\n",
    "            queue.append((node.right, hd + 1))\n",
    "\n",
    "    return bottom_view\n",
    "\n",
    "def bottom_view(root):\n",
    "    view = bottom_view_util(root)\n",
    "    sorted_keys = sorted(view.keys())\n",
    "    for key in sorted_keys:\n",
    "        print(view[key], end=\" \")\n",
    "\n",
    "root = Node(20)\n",
    "root.left = Node(8)\n",
    "root.right = Node(22)\n",
    "root.left.left = Node(5)\n",
    "root.left.right = Node(3)\n",
    "root.right.right = Node(25)\n",
    "root.left.right.left = Node(10)\n",
    "root.left.right.right = Node(14)\n",
    "\n",
    "print(\"Bottom view of the binary tree:\")\n",
    "bottom_view(root)\n"
   ]
  }
 ],
 "metadata": {
  "kernelspec": {
   "display_name": "Python 3 (ipykernel)",
   "language": "python",
   "name": "python3"
  },
  "language_info": {
   "codemirror_mode": {
    "name": "ipython",
    "version": 3
   },
   "file_extension": ".py",
   "mimetype": "text/x-python",
   "name": "python",
   "nbconvert_exporter": "python",
   "pygments_lexer": "ipython3",
   "version": "3.9.7"
  }
 },
 "nbformat": 4,
 "nbformat_minor": 5
}
